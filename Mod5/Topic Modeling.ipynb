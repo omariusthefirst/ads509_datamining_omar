{
 "cells": [
  {
   "cell_type": "markdown",
   "id": "bce2bb89",
   "metadata": {},
   "source": [
    "# ADS 509 Assignment 5.1: Topic Modeling\n",
    "\n",
    "This notebook holds Assignment 5.1 for Module 5 in ADS 509, Applied Text Mining. Work through this notebook, writing code and answering questions where required. \n",
    "\n",
    "In this assignment you will work with a categorical corpus that accompanies `nltk`. You will build the three types of topic models described in Chapter 8 of _Blueprints for Text Analytics using Python_: NMF, LSA, and LDA. You will compare these models to the true categories. \n"
   ]
  },
  {
   "cell_type": "markdown",
   "id": "d87e2c06",
   "metadata": {},
   "source": [
    "## General Assignment Instructions\n",
    "\n",
    "These instructions are included in every assignment, to remind you of the coding standards for the class. Feel free to delete this cell after reading it. \n",
    "\n",
    "One sign of mature code is conforming to a style guide. We recommend the [Google Python Style Guide](https://google.github.io/styleguide/pyguide.html). If you use a different style guide, please include a cell with a link. \n",
    "\n",
    "Your code should be relatively easy-to-read, sensibly commented, and clean. Writing code is a messy process, so please be sure to edit your final submission. Remove any cells that are not needed or parts of cells that contain unnecessary code. Remove inessential `import` statements and make sure that all such statements are moved into the designated cell. \n",
    "\n",
    "Make use of non-code cells for written commentary. These cells should be grammatical and clearly written. In some of these cells you will have questions to answer. The questions will be marked by a \"Q:\" and will have a corresponding \"A:\" spot for you. *Make sure to answer every question marked with a `Q:` for full credit.* \n"
   ]
  },
  {
   "cell_type": "code",
   "execution_count": 1,
   "id": "a85bce08",
   "metadata": {},
   "outputs": [],
   "source": [
    "# These libraries may be useful to you\n",
    "\n",
    "from nltk.corpus import brown\n",
    "\n",
    "import numpy as np\n",
    "import pandas as pd\n",
    "from tqdm.auto import tqdm\n",
    "\n",
    "#import gensim\n",
    "#import gensim.corpora as corpora\n",
    "#from gensim.utils import simple_preprocess\n",
    "#from gensim.models import CoherenceModel,LdaMulticore, Phrases \n",
    "#from gensim.models.phrases import Phraser \n",
    "#from gensim.corpora import Dictionary\n",
    "\n",
    "import pyLDAvis\n",
    "import pyLDAvis.sklearn\n",
    "import pyLDAvis.gensim_models\n",
    "\n",
    "import spacy\n",
    "from sklearn.feature_extraction.text import TfidfVectorizer, CountVectorizer\n",
    "from sklearn.decomposition import NMF, TruncatedSVD, LatentDirichletAllocation\n",
    "\n",
    "from spacy.lang.en.stop_words import STOP_WORDS as stopwords\n",
    "\n",
    "from collections import Counter, defaultdict\n",
    "\n",
    "nlp = spacy.load('en_core_web_sm')\n",
    "\n"
   ]
  },
  {
   "cell_type": "code",
   "execution_count": 2,
   "id": "a218df60",
   "metadata": {},
   "outputs": [],
   "source": [
    "# add any additional libaries you need here\n",
    "import nltk\n",
    "import matplotlib.pyplot as plt\n",
    "from sklearn.feature_extraction.text import CountVectorizer\n",
    "from sklearn.decomposition import TruncatedSVD\n",
    "\n",
    "from yellowbrick.text import FreqDistVisualizer\n",
    "from yellowbrick.datasets import load_hobbies\n",
    "\n",
    "from sklearn.decomposition import LatentDirichletAllocation\n",
    "\n",
    "\n"
   ]
  },
  {
   "cell_type": "code",
   "execution_count": 3,
   "id": "494de237",
   "metadata": {},
   "outputs": [],
   "source": [
    "# This function comes from the BTAP repo.\n",
    "\n",
    "def display_topics(model, features, no_top_words=5):\n",
    "    for topic, words in enumerate(model.components_):\n",
    "        total = words.sum()\n",
    "        largest = words.argsort()[::-1] # invert sort order\n",
    "        print(\"\\nTopic %02d\" % topic)\n",
    "        for i in range(0, no_top_words):\n",
    "            print(\"  %s (%2.2f)\" % (features[largest[i]], abs(words[largest[i]]*100.0/total)))"
   ]
  },
  {
   "cell_type": "markdown",
   "id": "a30a901c",
   "metadata": {},
   "source": [
    "## Getting to Know the Brown Corpus\n",
    "\n",
    "Let's spend a bit of time getting to know what's in the Brown corpus, our NLTK example of an \"overlapping\" corpus."
   ]
  },
  {
   "cell_type": "code",
   "execution_count": 4,
   "id": "457c59ed",
   "metadata": {},
   "outputs": [
    {
     "name": "stdout",
     "output_type": "stream",
     "text": [
      "For adventure we have 29 articles.\n",
      "For belles_lettres we have 75 articles.\n",
      "For editorial we have 27 articles.\n",
      "For fiction we have 29 articles.\n",
      "For government we have 30 articles.\n",
      "For hobbies we have 36 articles.\n",
      "For humor we have 9 articles.\n",
      "For learned we have 80 articles.\n",
      "For lore we have 48 articles.\n",
      "For mystery we have 24 articles.\n",
      "For news we have 44 articles.\n",
      "For religion we have 17 articles.\n",
      "For reviews we have 17 articles.\n",
      "For romance we have 29 articles.\n",
      "For science_fiction we have 6 articles.\n"
     ]
    }
   ],
   "source": [
    "# categories of articles in Brown corpus\n",
    "for category in brown.categories() :\n",
    "    print(f\"For {category} we have {len(brown.fileids(categories=category))} articles.\")"
   ]
  },
  {
   "cell_type": "markdown",
   "id": "23fb133c",
   "metadata": {},
   "source": [
    "Let's create a dataframe of the articles in of hobbies, editorial, government, news, and romance."
   ]
  },
  {
   "cell_type": "code",
   "execution_count": 5,
   "id": "18f50b9d",
   "metadata": {},
   "outputs": [
    {
     "data": {
      "text/plain": [
       "(166, 3)"
      ]
     },
     "execution_count": 5,
     "metadata": {},
     "output_type": "execute_result"
    }
   ],
   "source": [
    "categories = ['editorial','government','news','romance','hobbies'] \n",
    "\n",
    "category_list = []\n",
    "file_ids = []\n",
    "texts = []\n",
    "\n",
    "for category in categories : \n",
    "    for file_id in brown.fileids(categories=category) :\n",
    "        \n",
    "        # build some lists for a dataframe\n",
    "        category_list.append(category)\n",
    "        file_ids.append(file_id)\n",
    "        \n",
    "        text = brown.words(fileids=file_id)\n",
    "        texts.append(\" \".join(text))\n",
    "\n",
    "        \n",
    "        \n",
    "df = pd.DataFrame()\n",
    "df['category'] = category_list\n",
    "df['id'] = file_ids\n",
    "df['text'] = texts \n",
    "\n",
    "df.shape"
   ]
  },
  {
   "cell_type": "code",
   "execution_count": 6,
   "id": "586f47de",
   "metadata": {},
   "outputs": [],
   "source": [
    "# Let's add some helpful columns on the df\n",
    "df['char_len'] = df['text'].apply(len)\n",
    "df['word_len'] = df['text'].apply(lambda x: len(x.split()))\n"
   ]
  },
  {
   "cell_type": "code",
   "execution_count": 7,
   "id": "2128fd2d",
   "metadata": {},
   "outputs": [
    {
     "data": {
      "text/plain": [
       "<matplotlib.axes._subplots.AxesSubplot at 0x16f0e81c7f0>"
      ]
     },
     "execution_count": 7,
     "metadata": {},
     "output_type": "execute_result"
    },
    {
     "data": {
      "image/png": "[encoded data removed]",
      "text/plain": [
       "<Figure size 720x432 with 1 Axes>"
      ]
     },
     "metadata": {
      "needs_background": "light"
     },
     "output_type": "display_data"
    }
   ],
   "source": [
    "%matplotlib inline\n",
    "df.groupby('category').agg({'word_len': 'mean'}).plot.bar(figsize=(10,6))"
   ]
  },
  {
   "cell_type": "markdown",
   "id": "554ffeb5",
   "metadata": {},
   "source": [
    "Now do our TF-IDF and Count vectorizations."
   ]
  },
  {
   "cell_type": "code",
   "execution_count": 8,
   "id": "21a7d247",
   "metadata": {},
   "outputs": [
    {
     "name": "stderr",
     "output_type": "stream",
     "text": [
      "C:\\Users\\elfek\\AppData\\Roaming\\Python\\Python38\\site-packages\\sklearn\\feature_extraction\\text.py:396: UserWarning: Your stop_words may be inconsistent with your preprocessing. Tokenizing the stop words generated tokens ['ll', 've'] not in stop_words.\n",
      "  warnings.warn(\n"
     ]
    },
    {
     "data": {
      "text/plain": [
       "(166, 4941)"
      ]
     },
     "execution_count": 8,
     "metadata": {},
     "output_type": "execute_result"
    }
   ],
   "source": [
    "count_text_vectorizer = CountVectorizer(stop_words=stopwords, min_df=5, max_df=0.7)\n",
    "count_text_vectors = count_text_vectorizer.fit_transform(df[\"text\"])\n",
    "count_text_vectors.shape"
   ]
  },
  {
   "cell_type": "code",
   "execution_count": 9,
   "id": "9235cb63",
   "metadata": {},
   "outputs": [
    {
     "data": {
      "text/plain": [
       "array(['00', '000', '10', ..., 'youth', 'zone', 'zoning'], dtype=object)"
      ]
     },
     "execution_count": 9,
     "metadata": {},
     "output_type": "execute_result"
    }
   ],
   "source": [
    "count_text_vectorizer.get_feature_names_out()"
   ]
  },
  {
   "cell_type": "code",
   "execution_count": 32,
   "id": "875deba9",
   "metadata": {},
   "outputs": [
    {
     "name": "stderr",
     "output_type": "stream",
     "text": [
      "C:\\Users\\elfek\\AppData\\Roaming\\Python\\Python38\\site-packages\\sklearn\\feature_extraction\\text.py:396: UserWarning: Your stop_words may be inconsistent with your preprocessing. Tokenizing the stop words generated tokens ['ll', 've'] not in stop_words.\n",
      "  warnings.warn(\n"
     ]
    },
    {
     "data": {
      "text/plain": [
       "(166, 4941)"
      ]
     },
     "execution_count": 32,
     "metadata": {},
     "output_type": "execute_result"
    }
   ],
   "source": [
    "tfidf_text_vectorizer = TfidfVectorizer(stop_words=stopwords, min_df=5, max_df=0.7)\n",
    "tfidf_text_vectors = tfidf_text_vectorizer.fit_transform(df['text'])\n",
    "tfidf_text_vectors.shape\n"
   ]
  },
  {
   "cell_type": "code",
   "execution_count": 33,
   "id": "5465aa82",
   "metadata": {},
   "outputs": [
    {
     "data": {
      "text/plain": [
       "array(['00', '000', '10', ..., 'youth', 'zone', 'zoning'], dtype=object)"
      ]
     },
     "execution_count": 33,
     "metadata": {},
     "output_type": "execute_result"
    }
   ],
   "source": [
    "tfidf_text_vectorizer.get_feature_names_out()"
   ]
  },
  {
   "cell_type": "markdown",
   "id": "a1062b21",
   "metadata": {},
   "source": [
    "Q: What do the two data frames `count_text_vectors` and `tfidf_text_vectors` hold? \n",
    "\n",
    "A: \n",
    "count_text_vectors: contains a sparse representation matrix of the token counts.\n",
    "tfidf_text_vectors: contains a matrix of TF-IDF features, which means to get a matrix representation of token counts and then normalize it and then perform a term frequency. "
   ]
  },
  {
   "cell_type": "markdown",
   "id": "f77c3f94",
   "metadata": {},
   "source": [
    "## Fitting a Non-Negative Matrix Factorization Model\n",
    "\n",
    "In this section the code to fit a five-topic NMF model has already been written. This code comes directly from the [BTAP repo](https://github.com/blueprints-for-text-analytics-python/blueprints-text), which will help you tremendously in the coming sections. "
   ]
  },
  {
   "cell_type": "code",
   "execution_count": 34,
   "id": "d28745a3",
   "metadata": {},
   "outputs": [
    {
     "name": "stderr",
     "output_type": "stream",
     "text": [
      "C:\\Users\\elfek\\AppData\\Roaming\\Python\\Python38\\site-packages\\sklearn\\decomposition\\_nmf.py:289: FutureWarning: The 'init' value, when 'init=None' and n_components is less than n_samples and n_features, will be changed from 'nndsvd' to 'nndsvda' in 1.1 (renaming of 0.26).\n",
      "  warnings.warn(\n"
     ]
    }
   ],
   "source": [
    "nmf_text_model = NMF(n_components=5, random_state=314)\n",
    "W_text_matrix = nmf_text_model.fit_transform(tfidf_text_vectors)\n",
    "H_text_matrix = nmf_text_model.components_"
   ]
  },
  {
   "cell_type": "code",
   "execution_count": 35,
   "id": "a67185e7",
   "metadata": {},
   "outputs": [
    {
     "name": "stdout",
     "output_type": "stream",
     "text": [
      "\n",
      "Topic 00\n",
      "  mr (0.51)\n",
      "  president (0.45)\n",
      "  kennedy (0.43)\n",
      "  united (0.42)\n",
      "  khrushchev (0.40)\n",
      "\n",
      "Topic 01\n",
      "  said (0.88)\n",
      "  didn (0.46)\n",
      "  ll (0.45)\n",
      "  thought (0.42)\n",
      "  man (0.37)\n",
      "\n",
      "Topic 02\n",
      "  state (0.40)\n",
      "  development (0.36)\n",
      "  tax (0.33)\n",
      "  sales (0.30)\n",
      "  program (0.25)\n",
      "\n",
      "Topic 03\n",
      "  mrs (2.61)\n",
      "  mr (0.78)\n",
      "  said (0.64)\n",
      "  miss (0.52)\n",
      "  car (0.51)\n",
      "\n",
      "Topic 04\n",
      "  game (1.01)\n",
      "  league (0.74)\n",
      "  ball (0.72)\n",
      "  baseball (0.71)\n",
      "  team (0.66)\n"
     ]
    },
    {
     "name": "stderr",
     "output_type": "stream",
     "text": [
      "C:\\Users\\elfek\\AppData\\Roaming\\Python\\Python38\\site-packages\\sklearn\\utils\\deprecation.py:87: FutureWarning: Function get_feature_names is deprecated; get_feature_names is deprecated in 1.0 and will be removed in 1.2. Please use get_feature_names_out instead.\n",
      "  warnings.warn(msg, category=FutureWarning)\n"
     ]
    }
   ],
   "source": [
    "display_topics(nmf_text_model, tfidf_text_vectorizer.get_feature_names())"
   ]
  },
  {
   "cell_type": "code",
   "execution_count": 36,
   "id": "65678901",
   "metadata": {},
   "outputs": [],
   "source": [
    "#df.loc[ df['category'] == categories[0], 'text']\n"
   ]
  },
  {
   "cell_type": "markdown",
   "id": "fee51e9b",
   "metadata": {},
   "source": [
    "Now some work for you to do. Compare the NMF factorization to the original categories from the Brown Corpus."
   ]
  },
  {
   "cell_type": "code",
   "execution_count": 37,
   "id": "7c8c8eb0",
   "metadata": {},
   "outputs": [
    {
     "name": "stderr",
     "output_type": "stream",
     "text": [
      "C:\\Users\\elfek\\AppData\\Roaming\\Python\\Python38\\site-packages\\sklearn\\feature_extraction\\text.py:396: UserWarning: Your stop_words may be inconsistent with your preprocessing. Tokenizing the stop words generated tokens ['ll', 've'] not in stop_words.\n",
      "  warnings.warn(\n",
      "C:\\Users\\elfek\\AppData\\Roaming\\Python\\Python38\\site-packages\\sklearn\\utils\\deprecation.py:87: FutureWarning: Function get_feature_names is deprecated; get_feature_names is deprecated in 1.0 and will be removed in 1.2. Please use get_feature_names_out instead.\n",
      "  warnings.warn(msg, category=FutureWarning)\n",
      "C:\\Users\\elfek\\AppData\\Roaming\\Python\\Python38\\site-packages\\sklearn\\feature_extraction\\text.py:396: UserWarning: Your stop_words may be inconsistent with your preprocessing. Tokenizing the stop words generated tokens ['ll', 've'] not in stop_words.\n",
      "  warnings.warn(\n",
      "C:\\Users\\elfek\\AppData\\Roaming\\Python\\Python38\\site-packages\\sklearn\\utils\\deprecation.py:87: FutureWarning: Function get_feature_names is deprecated; get_feature_names is deprecated in 1.0 and will be removed in 1.2. Please use get_feature_names_out instead.\n",
      "  warnings.warn(msg, category=FutureWarning)\n",
      "C:\\Users\\elfek\\AppData\\Roaming\\Python\\Python38\\site-packages\\sklearn\\feature_extraction\\text.py:396: UserWarning: Your stop_words may be inconsistent with your preprocessing. Tokenizing the stop words generated tokens ['ll', 've'] not in stop_words.\n",
      "  warnings.warn(\n",
      "C:\\Users\\elfek\\AppData\\Roaming\\Python\\Python38\\site-packages\\sklearn\\utils\\deprecation.py:87: FutureWarning: Function get_feature_names is deprecated; get_feature_names is deprecated in 1.0 and will be removed in 1.2. Please use get_feature_names_out instead.\n",
      "  warnings.warn(msg, category=FutureWarning)\n",
      "C:\\Users\\elfek\\AppData\\Roaming\\Python\\Python38\\site-packages\\sklearn\\feature_extraction\\text.py:396: UserWarning: Your stop_words may be inconsistent with your preprocessing. Tokenizing the stop words generated tokens ['ll', 've'] not in stop_words.\n",
      "  warnings.warn(\n",
      "C:\\Users\\elfek\\AppData\\Roaming\\Python\\Python38\\site-packages\\sklearn\\utils\\deprecation.py:87: FutureWarning: Function get_feature_names is deprecated; get_feature_names is deprecated in 1.0 and will be removed in 1.2. Please use get_feature_names_out instead.\n",
      "  warnings.warn(msg, category=FutureWarning)\n",
      "C:\\Users\\elfek\\AppData\\Roaming\\Python\\Python38\\site-packages\\sklearn\\feature_extraction\\text.py:396: UserWarning: Your stop_words may be inconsistent with your preprocessing. Tokenizing the stop words generated tokens ['ll', 've'] not in stop_words.\n",
      "  warnings.warn(\n",
      "C:\\Users\\elfek\\AppData\\Roaming\\Python\\Python38\\site-packages\\sklearn\\utils\\deprecation.py:87: FutureWarning: Function get_feature_names is deprecated; get_feature_names is deprecated in 1.0 and will be removed in 1.2. Please use get_feature_names_out instead.\n",
      "  warnings.warn(msg, category=FutureWarning)\n"
     ]
    },
    {
     "data": {
      "image/png": "[encoded data removed]",
      "text/plain": [
       "<Figure size 1080x576 with 5 Axes>"
      ]
     },
     "metadata": {
      "needs_background": "light"
     },
     "output_type": "display_data"
    },
    {
     "data": {
      "text/plain": [
       "<matplotlib.axes._subplots.AxesSubplot at 0x16f129b6130>"
      ]
     },
     "execution_count": 37,
     "metadata": {},
     "output_type": "execute_result"
    }
   ],
   "source": [
    "# Your code here\n",
    "categories\n",
    "fig, axs = plt.subplots(1, 5,figsize=(15,8))\n",
    "\n",
    "# Load the text data\n",
    "for i in range (0,5):\n",
    "    corpus = df.loc[ df['category'] == categories[i], 'text']\n",
    "    #print(\"Top words for category:\" + categories[i])\n",
    "    axs[i].set_title(categories[i])\n",
    "    #axs[i].legend().set_visible(False)\n",
    "    #axs[i].get_legend().set_visible(False)\n",
    "    #axs[i].legend().legendPatch.set_visible(False)\n",
    "    tfidf_text_vectorizer2 =  TfidfVectorizer(stop_words=stopwords, min_df=5, max_df=0.7)\n",
    "    docs = tfidf_text_vectorizer2.fit_transform(corpus) #CountVectorizer()\n",
    "    features   = tfidf_text_vectorizer2.get_feature_names()\n",
    "\n",
    "    visualizer = FreqDistVisualizer(ax = axs[i],features=features, orient='v', n = 5)\n",
    "    visualizer.fit(docs)\n",
    "visualizer.show()"
   ]
  },
  {
   "cell_type": "markdown",
   "id": "f8d4e2bc",
   "metadata": {},
   "source": [
    "Q: How does your five-topic NMF model compare to the original Brown categories? \n",
    "\n",
    "A: The performance of the five-topic NFM model isn't very good. There is a lot of overlap between the topics in words used. So the topics are not differentiated much compared to the original brown categories with the exception of 2-3 topics."
   ]
  },
  {
   "cell_type": "markdown",
   "id": "82e37cb5",
   "metadata": {},
   "source": [
    "## Fitting an LSA Model\n",
    "\n",
    "In this section, follow the example from the repository and fit an LSA model (called a \"TruncatedSVD\" in `sklearn`). Again fit a five-topic model and compare it to the actual categories in the Brown corpus. Use the TF-IDF vectors for your fit, as above. "
   ]
  },
  {
   "cell_type": "code",
   "execution_count": 39,
   "id": "00b53d3d",
   "metadata": {},
   "outputs": [],
   "source": [
    "# Your code here\n",
    "svd_para_model = TruncatedSVD( n_components = 5, random_state = 42)\n",
    "W_svd_para_matrix = svd_para_model.fit_transform( tfidf_text_vectors)\n",
    "H_svd_para_matrix = svd_para_model.components_\n"
   ]
  },
  {
   "cell_type": "code",
   "execution_count": 40,
   "id": "e592d373",
   "metadata": {},
   "outputs": [
    {
     "name": "stdout",
     "output_type": "stream",
     "text": [
      "\n",
      "Topic 00\n",
      "  said (0.44)\n",
      "  mr (0.25)\n",
      "  mrs (0.22)\n",
      "  state (0.20)\n",
      "  man (0.17)\n",
      "\n",
      "Topic 01\n",
      "  said (3.89)\n",
      "  ll (2.73)\n",
      "  didn (2.63)\n",
      "  thought (2.20)\n",
      "  got (1.97)\n",
      "\n",
      "Topic 02\n",
      "  mrs (3.14)\n",
      "  mr (1.73)\n",
      "  said (1.05)\n",
      "  kennedy (0.81)\n",
      "  president (0.77)\n",
      "\n",
      "Topic 03\n",
      "  mrs (30.38)\n",
      "  club (6.70)\n",
      "  game (6.40)\n",
      "  jr (5.81)\n",
      "  dallas (5.50)\n",
      "\n",
      "Topic 04\n",
      "  game (4.33)\n",
      "  league (3.09)\n",
      "  baseball (3.06)\n",
      "  ball (2.94)\n",
      "  team (2.81)\n"
     ]
    },
    {
     "name": "stderr",
     "output_type": "stream",
     "text": [
      "C:\\Users\\elfek\\AppData\\Roaming\\Python\\Python38\\site-packages\\sklearn\\utils\\deprecation.py:87: FutureWarning: Function get_feature_names is deprecated; get_feature_names is deprecated in 1.0 and will be removed in 1.2. Please use get_feature_names_out instead.\n",
      "  warnings.warn(msg, category=FutureWarning)\n"
     ]
    }
   ],
   "source": [
    "display_topics(svd_para_model, tfidf_text_vectorizer.get_feature_names())"
   ]
  },
  {
   "cell_type": "markdown",
   "id": "4d94d56f",
   "metadata": {},
   "source": [
    "Q: How does your five-topic LSA model compare to the original Brown categories? \n",
    "\n",
    "A: The LSA model seems to perform similarly poorly as the NNMF model compared to the brown categories. Maybe only 2-3 of the topic match. The same problem of lack of differentiation between the topics 0,2, and 3. Topic 0 is an especially weak topic."
   ]
  },
  {
   "cell_type": "markdown",
   "id": "ea8b280a",
   "metadata": {},
   "source": [
    "Q: What is your interpretation of the display topics output? \n",
    "\n",
    "A: It seems to me that editorial and news categorize are very generic. It is difficult to have a central theme when there a lot of variation in the each document in the corpus."
   ]
  },
  {
   "cell_type": "markdown",
   "id": "b4ab4d29",
   "metadata": {},
   "source": [
    "## Fitting an LDA Model\n",
    "\n",
    "Finally, fit a five-topic LDA model using the count vectors (`count_text_vectors` from above). Display the results using `pyLDAvis.display` and describe what you learn from that visualization. "
   ]
  },
  {
   "cell_type": "code",
   "execution_count": 22,
   "id": "802cb8ff",
   "metadata": {},
   "outputs": [
    {
     "name": "stderr",
     "output_type": "stream",
     "text": [
      "C:\\Users\\elfek\\AppData\\Roaming\\Python\\Python38\\site-packages\\sklearn\\feature_extraction\\text.py:396: UserWarning: Your stop_words may be inconsistent with your preprocessing. Tokenizing the stop words generated tokens ['ll', 've'] not in stop_words.\n",
      "  warnings.warn(\n"
     ]
    }
   ],
   "source": [
    "# Fit your LDA model here\n",
    "\n",
    "count_para_vectorizer = CountVectorizer( stop_words = stopwords, min_df = 5, max_df = 0.7)\n",
    "count_para_vectors = count_para_vectorizer.fit_transform( df[\"text\"])\n",
    "lda_text_model = LatentDirichletAllocation( n_components = 5, random_state = 42)\n",
    "W_lda_matrix = lda_text_model.fit_transform( count_para_vectors)\n",
    "H_lda_matrix = lda_text_model.components_\n"
   ]
  },
  {
   "cell_type": "code",
   "execution_count": 23,
   "id": "ab18adf5",
   "metadata": {},
   "outputs": [
    {
     "name": "stdout",
     "output_type": "stream",
     "text": [
      "\n",
      "Topic 00\n",
      "  home (0.46)\n",
      "  right (0.35)\n",
      "  game (0.35)\n",
      "  way (0.34)\n",
      "  set (0.34)\n",
      "\n",
      "Topic 01\n",
      "  state (0.89)\n",
      "  development (0.57)\n",
      "  states (0.51)\n",
      "  program (0.46)\n",
      "  use (0.44)\n",
      "\n",
      "Topic 02\n",
      "  said (0.93)\n",
      "  mr (0.73)\n",
      "  president (0.63)\n",
      "  state (0.49)\n",
      "  mrs (0.48)\n",
      "\n",
      "Topic 03\n",
      "  feed (0.90)\n",
      "  general (0.73)\n",
      "  business (0.70)\n",
      "  property (0.69)\n",
      "  shall (0.67)\n",
      "\n",
      "Topic 04\n",
      "  said (1.56)\n",
      "  man (0.62)\n",
      "  little (0.62)\n",
      "  old (0.59)\n",
      "  good (0.53)\n"
     ]
    },
    {
     "name": "stderr",
     "output_type": "stream",
     "text": [
      "C:\\Users\\elfek\\AppData\\Roaming\\Python\\Python38\\site-packages\\sklearn\\utils\\deprecation.py:87: FutureWarning: Function get_feature_names is deprecated; get_feature_names is deprecated in 1.0 and will be removed in 1.2. Please use get_feature_names_out instead.\n",
      "  warnings.warn(msg, category=FutureWarning)\n"
     ]
    }
   ],
   "source": [
    "# Call `display_topics` on your fitted model here\n",
    "display_topics(lda_text_model, count_para_vectorizer.get_feature_names())"
   ]
  },
  {
   "cell_type": "code",
   "execution_count": 24,
   "id": "9ae15023",
   "metadata": {},
   "outputs": [
    {
     "data": {
      "text/plain": [
       "['editorial', 'government', 'news', 'romance', 'hobbies']"
      ]
     },
     "execution_count": 24,
     "metadata": {},
     "output_type": "execute_result"
    }
   ],
   "source": [
    "categories"
   ]
  },
  {
   "cell_type": "markdown",
   "id": "f2c67876",
   "metadata": {},
   "source": [
    "Q: What inference do you draw from the displayed topics for your LDA model? \n",
    "\n",
    "A: The probablistic ranking of the top five words still has low weights for most words so the groups are not well defined.\n",
    "\n",
    "\n",
    "Q: How does your five-topic LDA model compare to the original Brown categories? \n",
    "\n",
    "A: I am more satisfied with the five-topic LDA model. Topics 1 and 2 are similar i.e. the government should be in the news. The other top words make sense as well."
   ]
  },
  {
   "cell_type": "code",
   "execution_count": 25,
   "id": "6aae75ca",
   "metadata": {},
   "outputs": [
    {
     "name": "stderr",
     "output_type": "stream",
     "text": [
      "c:\\Users\\elfek\\anaconda3\\lib\\site-packages\\pyLDAvis\\_prepare.py:246: FutureWarning: In a future version of pandas all arguments of DataFrame.drop except for the argument 'labels' will be keyword-only\n",
      "  default_term_info = default_term_info.sort_values(\n"
     ]
    }
   ],
   "source": [
    "lda_display = pyLDAvis.sklearn.prepare(lda_text_model, count_text_vectors, count_text_vectorizer, sort_topics=False)"
   ]
  },
  {
   "cell_type": "code",
   "execution_count": 26,
   "id": "2a89fc15",
   "metadata": {},
   "outputs": [
    {
     "data": {
      "text/html": [
       "\n",
       "<link rel=\"stylesheet\" type=\"text/css\" href=\"https://cdn.jsdelivr.net/gh/bmabey/pyLDAvis@3.3.1/pyLDAvis/js/ldavis.v1.0.0.css\">\n",
       "\n",
       "\n",
       "<div id=\"ldavis_el1355215765619205924460617342\"></div>\n",
       "<script type=\"text/javascript\">\n",
       "\n",
       "var ldavis_el1355215765619205924460617342_data = {\"mdsDat\": {\"x\": [-0.08904549103408549, 0.12393644925088655, 0.025500167589225773, 0.15979135455241641, -0.22018248035844293], \"y\": [0.16135617455413795, -0.009252658807314207, -0.04809236794047019, -0.016212399453422146, -0.08779874835293135], \"topics\": [1, 2, 3, 4, 5], \"cluster\": [1, 1, 1, 1, 1], \"Freq\": [17.447275076687003, 24.24591072579818, 32.8312362559609, 7.470347983419147, 18.00522995813477]}, \"tinfo\": {\"Term\": [\"said\", \"government\", \"general\", \"feed\", \"business\", \"united\", \"state\", \"states\", \"shall\", \"property\", \"department\", \"development\", \"act\", \"john\", \"didn\", \"tax\", \"ll\", \"thought\", \"mother\", \"president\", \"little\", \"board\", \"small\", \"local\", \"shelter\", \"don\", \"man\", \"old\", \"kennedy\", \"court\", \"player\", \"baseball\", \"panels\", \"leg\", \"yards\", \"yankees\", \"holes\", \"gallery\", \"vernon\", \"coach\", \"charlie\", \"plastic\", \"hits\", \"ball\", \"pittsburgh\", \"favorite\", \"runs\", \"pitcher\", \"hole\", \"pitching\", \"team\", \"paint\", \"stadium\", \"ruth\", \"willie\", \"bat\", \"homer\", \"amateur\", \"paintings\", \"chest\", \"pieces\", \"games\", \"cooling\", \"drill\", \"roy\", \"clay\", \"game\", \"bob\", \"golf\", \"season\", \"inch\", \"football\", \"playing\", \"hit\", \"frame\", \"piece\", \"league\", \"fig\", \"signs\", \"club\", \"cut\", \"junior\", \"play\", \"green\", \"run\", \"center\", \"home\", \"set\", \"won\", \"right\", \"place\", \"don\", \"second\", \"way\", \"house\", \"ll\", \"good\", \"work\", \"class\", \"mrs\", \"use\", \"left\", \"high\", \"better\", \"best\", \"said\", \"textile\", \"participation\", \"employee\", \"musical\", \"publications\", \"faculty\", \"forests\", \"recreation\", \"inventory\", \"interior\", \"fiscal\", \"producers\", \"imports\", \"creative\", \"designers\", \"maintain\", \"evaluation\", \"academic\", \"depreciation\", \"exceed\", \"coverage\", \"laboratories\", \"curriculum\", \"engineers\", \"expenditures\", \"comprehensive\", \"locations\", \"educated\", \"resources\", \"fishing\", \"rhode\", \"organizations\", \"vehicles\", \"india\", \"development\", \"projects\", \"library\", \"activities\", \"technical\", \"pool\", \"planning\", \"published\", \"import\", \"management\", \"site\", \"island\", \"plant\", \"medical\", \"bridge\", \"state\", \"research\", \"program\", \"industrial\", \"1960\", \"available\", \"corps\", \"system\", \"use\", \"production\", \"states\", \"period\", \"services\", \"important\", \"area\", \"interest\", \"national\", \"united\", \"work\", \"000\", \"service\", \"college\", \"water\", \"company\", \"government\", \"american\", \"business\", \"public\", \"high\", \"kennedy\", \"nuclear\", \"soviet\", \"khrushchev\", \"laos\", \"berlin\", \"congo\", \"republican\", \"moscow\", \"cuba\", \"weapons\", \"senate\", \"castro\", \"sen\", \"charter\", \"troops\", \"hughes\", \"premier\", \"communism\", \"democrats\", \"communists\", \"election\", \"aug\", \"welfare\", \"gen\", \"republicans\", \"katanga\", \"bombs\", \"police\", \"communist\", \"democratic\", \"rayburn\", \"georgia\", \"leader\", \"russia\", \"vote\", \"political\", \"jury\", \"president\", \"committee\", \"mr\", \"mayor\", \"county\", \"party\", \"council\", \"war\", \"mrs\", \"city\", \"meeting\", \"said\", \"east\", \"west\", \"yesterday\", \"nations\", \"000\", \"military\", \"administration\", \"school\", \"state\", \"american\", \"government\", \"public\", \"united\", \"people\", \"week\", \"world\", \"house\", \"states\", \"members\", \"john\", \"national\", \"program\", \"man\", \"home\", \"recommendation\", \"motors\", \"thereof\", \"boats\", \"shelter\", \"feed\", \"cattle\", \"interference\", \"chemical\", \"assessment\", \"catastrophe\", \"boat\", \"tangible\", \"engine\", \"stockholders\", \"conversion\", \"electricity\", \"claim\", \"property\", \"stations\", \"ratio\", \"accommodate\", \"farmers\", \"concrete\", \"battery\", \"pound\", \"blocks\", \"claims\", \"manufactured\", \"63\", \"loans\", \"officer\", \"credit\", \"trust\", \"shall\", \"farm\", \"respect\", \"laws\", \"general\", \"act\", \"business\", \"department\", \"stock\", \"hearing\", \"daily\", \"john\", \"small\", \"government\", \"local\", \"class\", \"board\", \"tax\", \"united\", \"court\", \"policy\", \"service\", \"states\", \"report\", \"head\", \"secretary\", \"pale\", \"smiled\", \"hadn\", \"hair\", \"listening\", \"shoes\", \"loved\", \"hell\", \"sick\", \"liked\", \"mother\", \"stared\", \"heel\", \"wondered\", \"smile\", \"tongue\", \"laughed\", \"handsome\", \"silent\", \"looked\", \"strange\", \"lips\", \"till\", \"dad\", \"dear\", \"fountain\", \"puerto\", \"rico\", \"susan\", \"nodded\", \"wasn\", \"couldn\", \"love\", \"sat\", \"didn\", \"eyes\", \"baby\", \"woman\", \"thought\", \"stood\", \"yes\", \"child\", \"wouldn\", \"knew\", \"alexander\", \"went\", \"father\", \"voice\", \"bed\", \"door\", \"felt\", \"girl\", \"got\", \"know\", \"god\", \"little\", \"said\", \"young\", \"came\", \"ll\", \"away\", \"old\", \"man\", \"boy\", \"come\", \"going\", \"don\", \"let\", \"thing\", \"good\", \"life\", \"way\", \"look\", \"day\", \"asked\", \"people\", \"think\", \"night\"], \"Freq\": [793.0, 274.0, 197.0, 90.0, 207.0, 301.0, 493.0, 334.0, 123.0, 91.0, 155.0, 202.0, 128.0, 165.0, 123.0, 176.0, 165.0, 138.0, 96.0, 298.0, 236.0, 173.0, 207.0, 127.0, 55.0, 175.0, 280.0, 251.0, 131.0, 106.0, 46.90061738279513, 38.32019195875093, 32.601476249193034, 27.831525211454093, 25.929233675327975, 24.965651021853606, 21.162778832210495, 21.1554295520155, 19.254389784454855, 21.94793794298799, 18.280628736886957, 24.504910875563546, 15.442227275155348, 59.068237809241, 15.429350272859393, 15.42977593570406, 38.066924702019136, 14.48203164923241, 35.29261204086967, 13.535621759504751, 53.26575195711285, 13.516253246233777, 12.582744451574868, 12.582358303937458, 12.582206179585176, 12.58008370505633, 12.579537857165436, 12.577344934489346, 12.576735754565986, 18.818378791886897, 48.98101977616409, 28.516446892422927, 34.18539770126029, 30.685701114865815, 20.296779363910066, 70.92710391222968, 76.4210160309184, 21.859355384655043, 24.064317493411195, 55.752531950871415, 55.415768125311274, 23.176638782391766, 32.95509315449191, 45.295959244571364, 32.17680895813649, 45.65789699624386, 44.088003270410354, 26.85607118011565, 30.029049163988415, 68.24415837156718, 61.47380111399659, 44.51582762921535, 45.17975584948409, 41.74182728863294, 61.56050618593948, 53.248518285571315, 99.24831428743187, 73.15486854806176, 49.90191872032166, 77.17424013092685, 71.0684443663461, 67.45444118433485, 54.79575807121914, 73.85743200897512, 66.50953757158301, 58.071013526849484, 68.4539087110388, 64.72256586429496, 48.053470757016896, 59.567487890082525, 57.07727059133229, 52.348609357358455, 52.823557510266184, 50.682057336880035, 49.36909901937117, 51.04430480221197, 28.30592572507232, 24.424933130164725, 24.416582541428415, 20.544465245197667, 19.577791969757847, 51.22952404642779, 15.70326853540891, 34.959107438323166, 16.49902310202556, 39.41961363149063, 105.71631917016923, 10.843150222887733, 10.843191961881848, 15.366030813907868, 10.837350150282647, 18.96634658538625, 8.909802874473462, 27.529009854898305, 8.858011680160246, 14.160264880448775, 12.37711443597968, 7.945091103923968, 7.944499146179795, 26.498449187642596, 24.601887270428154, 6.97955190837813, 6.977825659837762, 6.961783314860115, 35.520402490742114, 16.49984135869286, 77.5176425354752, 34.380580535594014, 38.779752097037374, 33.56659824328086, 171.0664032609086, 47.60581979772399, 40.70073357657619, 50.99879715314281, 50.77495370210982, 65.62205389309975, 69.98216493822903, 23.88231207283268, 22.226309066144545, 67.03066445066713, 43.608897498620756, 90.07056610828162, 63.12724053593274, 76.72074181207189, 42.1157837757434, 269.28745480859897, 75.01508583602265, 137.8342923463195, 58.36202478028871, 85.25628829194972, 78.6467368640023, 55.99466247540458, 88.49431784587445, 132.0158601580121, 59.77628464526145, 153.87030346474532, 66.51941709764498, 61.044387012279664, 68.15034258267048, 75.45918600647893, 71.63562137761119, 89.85286077004841, 100.30627971605435, 89.75509366471236, 91.201630965124, 79.78955096407294, 66.59945264744293, 70.9471119830775, 66.1706422642866, 76.07309911924544, 73.78709559466988, 70.7383157598621, 68.82940026130505, 67.17454331593022, 130.55798857848032, 78.2831623099577, 80.15534955730644, 72.42766617966998, 49.975458223756135, 64.3288607521747, 43.144148488863536, 39.23921138129494, 37.28723205542031, 37.285162291857894, 33.38117353053975, 50.48186809847161, 29.47811606604345, 29.472070136194116, 27.524478420994242, 26.546567561465384, 24.598100241185122, 24.59746362742038, 28.366359331598442, 23.6215344184634, 23.621514707273178, 53.85156123257404, 22.63499327719872, 28.289427952000647, 21.667875350260527, 19.717225368697065, 19.715333295353958, 18.73929886285081, 44.956634171554015, 71.08883786921628, 58.67263564973978, 44.727317963526815, 41.01186311970619, 40.961178070026335, 42.75494355800681, 53.26004849556478, 77.66451404222019, 45.99694390738237, 256.683308712722, 100.13108356008037, 299.58693696212447, 41.66774583018284, 89.54950650704197, 88.25087010038447, 63.246503143009534, 111.54997230255407, 196.8118194200387, 146.6433766566953, 77.42239713159225, 381.8436104074145, 75.45054972154979, 81.92645439054775, 54.33565818383021, 64.87072201972009, 157.1712892483477, 86.05398991963561, 90.41446202544756, 105.34110373746256, 200.5101075011482, 135.2672821274958, 136.36311808125186, 113.67484428167802, 143.13046428521693, 131.39357181060328, 102.30539146482391, 118.03946916863094, 110.80907382496765, 127.51280528548062, 85.81571642208259, 87.78699173276583, 90.85601777434412, 90.58171583241341, 91.80600480969787, 85.06904723383856, 17.17819215438894, 41.10660325195018, 10.842304100261698, 34.163410197619854, 51.609310092867055, 83.87131629281072, 16.961910390036515, 28.586241537893155, 21.559437024413505, 13.892065761848643, 4.31588810463813, 31.353398407560483, 10.914009441186643, 20.29408022906224, 14.366234414437448, 9.085753040663976, 8.384577507961874, 29.56793546629833, 63.982671655926204, 39.57085104384939, 13.310226929816439, 4.413536328938573, 11.812101414289835, 15.434840879722726, 8.542015318965735, 16.214437965845345, 13.141859292913495, 18.56590499962398, 5.3763949289377235, 4.116116220725824, 18.87098370582248, 31.161953588731798, 23.437239531389217, 22.32431541968088, 62.11460505548355, 21.88716214046146, 25.334996433956324, 25.16304198726052, 68.32523030675024, 48.38785301733274, 65.54843990630357, 49.31128643694825, 31.930065536055277, 24.89563501926982, 25.299699763187682, 45.59237115011248, 50.87805430915317, 58.51478612185841, 39.127743885723504, 33.6996088541833, 42.051782087076965, 42.15988722908425, 51.06259229251417, 32.487661084421774, 30.139180521217252, 37.846989716115544, 43.12969271027038, 26.44791636101452, 27.322591717134195, 26.950204279628583, 26.223972084815532, 26.223125676036236, 30.807720714277107, 34.295855240737325, 18.509420935971924, 18.506600131978946, 17.546129234809708, 15.616621370254826, 15.616011782791327, 14.652382045426368, 91.6533695510009, 14.640724595512134, 14.616591009698473, 13.68775157135722, 13.684077201385561, 13.681568956662659, 12.722342625, 15.42250200530224, 11.7609945495664, 79.59653259438068, 15.3256006158891, 10.798802478098882, 10.795549117390282, 10.790566768128176, 10.79093440260421, 10.789337946981787, 18.783165780481767, 18.78293447851752, 25.066750015052264, 9.830940284581837, 53.62872441597587, 49.06544191651014, 55.025465700604315, 34.66268537557113, 110.38470093345865, 86.73179772095594, 32.365441884296835, 48.680004552649365, 115.39167767292912, 42.393882445335485, 35.80365335589419, 56.413163482956364, 36.29765011663907, 72.90742519564196, 22.679581977802094, 99.56843254895261, 50.257351293165314, 40.32391391324263, 30.457366445791582, 53.59719233693797, 66.88466514659392, 37.33179687081797, 97.33786957462668, 118.80837727344331, 48.24708939329565, 140.0064701171481, 351.1814087884994, 87.76999255278068, 100.05581404206981, 99.33034907589816, 79.0321143855566, 131.78047747147514, 140.1614815935642, 58.442756001484526, 102.08235138043325, 81.29417470698675, 95.25692500726008, 74.88672246223308, 64.2360325405731, 119.13152483850263, 82.15193418702741, 100.34242550525852, 70.95953136733553, 99.45093278293237, 68.27580654754772, 87.43700324028703, 69.72423847300394, 68.29549271581836], \"Total\": [793.0, 274.0, 197.0, 90.0, 207.0, 301.0, 493.0, 334.0, 123.0, 91.0, 155.0, 202.0, 128.0, 165.0, 123.0, 176.0, 165.0, 138.0, 96.0, 298.0, 236.0, 173.0, 207.0, 127.0, 55.0, 175.0, 280.0, 251.0, 131.0, 106.0, 47.66435300694079, 39.08449237122968, 33.36452797395769, 28.597992925746407, 26.691310763606396, 25.738143827757217, 21.92468223324927, 21.92481758103478, 20.018096873595084, 22.880883003207977, 19.065014116945715, 25.709666737501717, 16.2048060798535, 61.98857273210538, 16.204394517781513, 16.20489085728514, 40.05825609278075, 15.251554624872282, 37.19065702047363, 14.298157118147202, 56.28168009499065, 14.298523621335825, 13.344838599195498, 13.344843079876618, 13.34483952655137, 13.344862169537459, 13.344899633086355, 13.344939833001625, 13.344930852856603, 20.028426619099214, 52.394966399668554, 30.519591447219018, 37.20925808553479, 33.403609887572316, 21.93462883226286, 81.13903425209911, 88.77109117227332, 23.859328205313687, 26.714928402944306, 66.76963227458812, 67.14937119000088, 25.780980704131274, 39.08730858341474, 57.42506489349289, 38.237812720554174, 60.32370987759951, 59.39162196779937, 31.22397459161489, 36.35442971383613, 110.39094009275051, 97.00956488697172, 64.01392047945939, 66.049735679178, 61.32170923668714, 117.88826919757683, 93.2339897946935, 264.66356215080447, 168.10523589933345, 87.32555005640006, 211.53755012135656, 188.1876042250867, 175.54834026912013, 122.2007891407095, 273.01938601456925, 231.71600302131566, 165.25679830440566, 306.47272024823735, 259.65113217108654, 97.21507091062863, 305.43622983849264, 255.68608958646578, 160.6976695068461, 219.23861867225736, 158.8651352095258, 138.3197812763167, 793.198062514022, 29.066277834701758, 25.1882160127814, 25.18742543006549, 21.310435117003827, 20.340699169766893, 53.31198076178556, 16.4630371300414, 36.739509201689444, 17.419236908303702, 41.6443681234254, 112.46771652014819, 11.615241615072781, 11.615681174914721, 16.465355095652903, 11.615444194120263, 20.345024378932035, 9.676277631083892, 30.047459886281448, 9.676528342844186, 15.489464864639483, 13.557378463278011, 8.707277541875051, 8.707210774621496, 29.05847769758131, 27.13942791024226, 7.737949798815941, 7.737860506987796, 7.7378975527362766, 39.48906554376949, 18.39576337743734, 86.93927376656616, 38.53756413175116, 43.5365136121419, 37.814843191997916, 202.5434595366818, 54.28910391509668, 46.48914175778718, 58.87298783480306, 59.05703959312543, 78.44349545891589, 86.15500553198629, 27.14422776186399, 25.152542211811962, 85.44802420189777, 53.1889834748701, 120.69243365827357, 81.17637891156795, 102.7448970487831, 52.16582048185011, 493.62537576096923, 104.64650009037024, 234.15281293863532, 79.30368946288398, 130.85965117021198, 120.50229372173803, 76.67837338800318, 144.0348731815799, 255.68608958646578, 84.94096130626136, 334.6090934747783, 100.26523677017704, 95.46666258152918, 116.54560425434002, 146.63878947508456, 134.87934177696738, 215.76386447134638, 301.11435465212674, 259.65113217108654, 283.73773404804854, 204.71415487286396, 125.01374970261887, 162.35101162081634, 139.2006376068672, 274.2920039619514, 263.62749181320373, 207.05856226204014, 202.1217626252865, 219.23861867225736, 131.74744694320302, 79.04169172167208, 80.99298021478859, 73.18495123391345, 50.734050163219564, 65.35199596575507, 43.90119445536833, 39.99668095319407, 38.04442253897727, 38.04440829842816, 34.13989417338394, 51.7057190378286, 30.23542705121202, 30.234936155226087, 28.283157414718215, 27.307002651521724, 25.354806496723125, 25.354775130552316, 29.258280708044015, 24.37867489012525, 24.37867052707378, 55.59125568724581, 23.4017395546942, 29.257207622704716, 22.426402188945147, 20.474173695740895, 20.474115528689563, 19.49802272108338, 46.82195912250446, 74.13978785883909, 61.45750166124034, 46.81317161844794, 42.9171547822424, 42.89665200500992, 44.8677684747822, 56.465180883002965, 83.75605493543969, 48.7571000640664, 298.0049253740503, 111.16954463300397, 388.9490573137728, 44.81680850929818, 105.29405630331746, 108.99175405552197, 73.93467892099103, 146.94695472971057, 305.43622983849264, 215.50738617088126, 98.07230972170906, 793.198062514022, 95.30910098855253, 106.76662465986618, 62.31593920551762, 79.91343885868753, 283.73773404804854, 123.46464847790239, 133.10411493977054, 172.87352126817868, 493.62537576096923, 263.62749181320373, 274.2920039619514, 202.1217626252865, 301.11435465212674, 265.38333183383315, 188.83148033048104, 255.82115900738108, 231.71600302131566, 334.6090934747783, 141.93088414521412, 165.08586651214696, 215.76386447134638, 234.15281293863532, 280.6051549180669, 264.66356215080447, 17.961121314259465, 43.12194604653768, 11.700075655514464, 36.905694030964305, 55.8455081239339, 90.90616061720627, 19.9087897284662, 34.47677595534112, 26.335730556568855, 17.28202436116528, 5.455801077999414, 39.99891901371457, 14.622982316965391, 28.351111087163215, 20.16763222673981, 12.81023183610139, 11.911588284586097, 42.15346438822951, 91.75925342616252, 56.932884793939934, 19.252482229328226, 6.423512756744709, 17.469779612267303, 22.959421024424888, 12.803104188002523, 24.696805696968752, 20.138418395357473, 28.522111995551185, 8.276134489824864, 6.4416956902979425, 30.456894083649804, 51.78874668622471, 38.81757716815538, 37.017531806418624, 123.83285098432717, 37.98222346660765, 46.37530083851892, 47.48340486956454, 197.37841645995607, 128.93242528505573, 207.05856226204014, 155.23741712836454, 75.70146992373205, 50.324547065276846, 52.30758922305792, 165.08586651214696, 207.43867271064568, 274.2920039619514, 127.82948794710167, 97.21507091062863, 173.06300374244174, 176.23689119465024, 301.11435465212674, 106.2613139654032, 92.75698836431368, 204.71415487286396, 334.6090934747783, 88.16202157990375, 132.73249417201166, 121.30035314519736, 26.985718850138348, 26.985740113031262, 31.804157090501377, 35.656900936365275, 19.271959939038844, 19.271928781912703, 18.30775648742037, 16.379241516888637, 16.379216173724906, 15.41502906286016, 96.45899309675681, 15.414880981580351, 15.415264817709476, 14.450711190669255, 14.450763884434107, 14.450863632331531, 13.486300190496248, 16.377042400438707, 12.522303359993169, 84.88269641041103, 16.382867022120152, 11.558146294111, 11.557949780159596, 11.557639126610672, 11.55816283317528, 11.55805158701477, 20.22402689990839, 20.2240303613982, 26.999578613815167, 10.59389018154445, 57.85865846732318, 53.030372288848504, 59.81156820696336, 37.61195313858665, 123.4268852265731, 97.39117995857619, 35.69498617915271, 54.95247669899158, 138.69837865089423, 48.25759988223435, 40.487324039246516, 66.607391133408, 41.49620421779667, 89.53364153849797, 25.07303534911507, 135.94578054290616, 62.78202994632664, 49.24574271182144, 35.6370887905053, 69.45977814175703, 90.79523483151368, 45.38786301885673, 145.50569633380394, 189.70420918103298, 62.829406193426166, 236.3007905865815, 793.198062514022, 135.2981497462788, 161.03398411558888, 165.25679830440566, 122.54615448701333, 251.92407677669965, 280.6051549180669, 81.83629935183659, 184.3618986936371, 132.4718518007493, 175.54834026912013, 121.4656941860759, 95.39493602342324, 306.47272024823735, 161.43605560562384, 273.01938601456925, 129.0991508258936, 301.1134031707986, 117.84170377486384, 265.38333183383315, 132.80996956479686, 150.04996102402907], \"Category\": [\"Default\", \"Default\", \"Default\", \"Default\", \"Default\", \"Default\", \"Default\", \"Default\", \"Default\", \"Default\", \"Default\", \"Default\", \"Default\", \"Default\", \"Default\", \"Default\", \"Default\", \"Default\", \"Default\", \"Default\", \"Default\", \"Default\", \"Default\", \"Default\", \"Default\", \"Default\", \"Default\", \"Default\", \"Default\", \"Default\", \"Topic1\", \"Topic1\", \"Topic1\", \"Topic1\", \"Topic1\", \"Topic1\", \"Topic1\", \"Topic1\", \"Topic1\", \"Topic1\", \"Topic1\", \"Topic1\", \"Topic1\", \"Topic1\", \"Topic1\", \"Topic1\", \"Topic1\", \"Topic1\", \"Topic1\", \"Topic1\", \"Topic1\", \"Topic1\", \"Topic1\", \"Topic1\", \"Topic1\", \"Topic1\", \"Topic1\", \"Topic1\", \"Topic1\", \"Topic1\", \"Topic1\", \"Topic1\", \"Topic1\", \"Topic1\", \"Topic1\", \"Topic1\", \"Topic1\", \"Topic1\", \"Topic1\", \"Topic1\", \"Topic1\", \"Topic1\", \"Topic1\", \"Topic1\", \"Topic1\", \"Topic1\", \"Topic1\", \"Topic1\", \"Topic1\", \"Topic1\", \"Topic1\", \"Topic1\", \"Topic1\", \"Topic1\", \"Topic1\", \"Topic1\", \"Topic1\", \"Topic1\", \"Topic1\", \"Topic1\", \"Topic1\", \"Topic1\", \"Topic1\", \"Topic1\", \"Topic1\", \"Topic1\", \"Topic1\", \"Topic1\", \"Topic1\", \"Topic1\", \"Topic1\", \"Topic1\", \"Topic1\", \"Topic1\", \"Topic1\", \"Topic1\", \"Topic2\", \"Topic2\", \"Topic2\", \"Topic2\", \"Topic2\", \"Topic2\", \"Topic2\", \"Topic2\", \"Topic2\", \"Topic2\", \"Topic2\", \"Topic2\", \"Topic2\", \"Topic2\", \"Topic2\", \"Topic2\", \"Topic2\", \"Topic2\", \"Topic2\", \"Topic2\", \"Topic2\", \"Topic2\", \"Topic2\", \"Topic2\", \"Topic2\", \"Topic2\", \"Topic2\", \"Topic2\", \"Topic2\", \"Topic2\", \"Topic2\", \"Topic2\", \"Topic2\", \"Topic2\", \"Topic2\", \"Topic2\", \"Topic2\", \"Topic2\", \"Topic2\", \"Topic2\", \"Topic2\", \"Topic2\", \"Topic2\", \"Topic2\", \"Topic2\", \"Topic2\", \"Topic2\", \"Topic2\", \"Topic2\", \"Topic2\", \"Topic2\", \"Topic2\", \"Topic2\", \"Topic2\", \"Topic2\", \"Topic2\", \"Topic2\", \"Topic2\", \"Topic2\", \"Topic2\", \"Topic2\", \"Topic2\", \"Topic2\", \"Topic2\", \"Topic2\", \"Topic2\", \"Topic2\", \"Topic2\", \"Topic2\", \"Topic2\", \"Topic2\", \"Topic2\", \"Topic2\", \"Topic2\", \"Topic2\", \"Topic2\", \"Topic2\", \"Topic2\", \"Topic3\", \"Topic3\", \"Topic3\", \"Topic3\", \"Topic3\", \"Topic3\", \"Topic3\", \"Topic3\", \"Topic3\", \"Topic3\", \"Topic3\", \"Topic3\", \"Topic3\", \"Topic3\", \"Topic3\", \"Topic3\", \"Topic3\", \"Topic3\", \"Topic3\", \"Topic3\", \"Topic3\", \"Topic3\", \"Topic3\", \"Topic3\", \"Topic3\", \"Topic3\", \"Topic3\", \"Topic3\", \"Topic3\", \"Topic3\", \"Topic3\", \"Topic3\", \"Topic3\", \"Topic3\", \"Topic3\", \"Topic3\", \"Topic3\", \"Topic3\", \"Topic3\", \"Topic3\", \"Topic3\", \"Topic3\", \"Topic3\", \"Topic3\", \"Topic3\", \"Topic3\", \"Topic3\", \"Topic3\", \"Topic3\", \"Topic3\", \"Topic3\", \"Topic3\", \"Topic3\", \"Topic3\", \"Topic3\", \"Topic3\", \"Topic3\", \"Topic3\", \"Topic3\", \"Topic3\", \"Topic3\", \"Topic3\", \"Topic3\", \"Topic3\", \"Topic3\", \"Topic3\", \"Topic3\", \"Topic3\", \"Topic3\", \"Topic3\", \"Topic3\", \"Topic3\", \"Topic3\", \"Topic3\", \"Topic4\", \"Topic4\", \"Topic4\", \"Topic4\", \"Topic4\", \"Topic4\", \"Topic4\", \"Topic4\", \"Topic4\", \"Topic4\", \"Topic4\", \"Topic4\", \"Topic4\", \"Topic4\", \"Topic4\", \"Topic4\", \"Topic4\", \"Topic4\", \"Topic4\", \"Topic4\", \"Topic4\", \"Topic4\", \"Topic4\", \"Topic4\", \"Topic4\", \"Topic4\", \"Topic4\", \"Topic4\", \"Topic4\", \"Topic4\", \"Topic4\", \"Topic4\", \"Topic4\", \"Topic4\", \"Topic4\", \"Topic4\", \"Topic4\", \"Topic4\", \"Topic4\", \"Topic4\", \"Topic4\", \"Topic4\", \"Topic4\", \"Topic4\", \"Topic4\", \"Topic4\", \"Topic4\", \"Topic4\", \"Topic4\", \"Topic4\", \"Topic4\", \"Topic4\", \"Topic4\", \"Topic4\", \"Topic4\", \"Topic4\", \"Topic4\", \"Topic4\", \"Topic4\", \"Topic4\", \"Topic5\", \"Topic5\", \"Topic5\", \"Topic5\", \"Topic5\", \"Topic5\", \"Topic5\", \"Topic5\", \"Topic5\", \"Topic5\", \"Topic5\", \"Topic5\", \"Topic5\", \"Topic5\", \"Topic5\", \"Topic5\", \"Topic5\", \"Topic5\", \"Topic5\", \"Topic5\", \"Topic5\", \"Topic5\", \"Topic5\", \"Topic5\", \"Topic5\", \"Topic5\", \"Topic5\", \"Topic5\", \"Topic5\", \"Topic5\", \"Topic5\", \"Topic5\", \"Topic5\", \"Topic5\", \"Topic5\", \"Topic5\", \"Topic5\", \"Topic5\", \"Topic5\", \"Topic5\", \"Topic5\", \"Topic5\", \"Topic5\", \"Topic5\", \"Topic5\", \"Topic5\", \"Topic5\", \"Topic5\", \"Topic5\", \"Topic5\", \"Topic5\", \"Topic5\", \"Topic5\", \"Topic5\", \"Topic5\", \"Topic5\", \"Topic5\", \"Topic5\", \"Topic5\", \"Topic5\", \"Topic5\", \"Topic5\", \"Topic5\", \"Topic5\", \"Topic5\", \"Topic5\", \"Topic5\", \"Topic5\", \"Topic5\", \"Topic5\", \"Topic5\", \"Topic5\", \"Topic5\", \"Topic5\", \"Topic5\", \"Topic5\", \"Topic5\", \"Topic5\"], \"logprob\": [30.0, 29.0, 28.0, 27.0, 26.0, 25.0, 24.0, 23.0, 22.0, 21.0, 20.0, 19.0, 18.0, 17.0, 16.0, 15.0, 14.0, 13.0, 12.0, 11.0, 10.0, 9.0, 8.0, 7.0, 6.0, 5.0, 4.0, 3.0, 2.0, 1.0, -6.1393, -6.3414, -6.503, -6.6612, -6.732, -6.7699, -6.9351, -6.9355, -7.0296, -6.8987, -7.0815, -6.7885, -7.2503, -5.9087, -7.2511, -7.2511, -6.348, -7.3145, -6.4237, -7.382, -6.0121, -7.3835, -7.455, -7.4551, -7.4551, -7.4553, -7.4553, -7.4555, -7.4555, -7.0525, -6.0959, -6.6369, -6.4556, -6.5636, -6.9769, -5.7257, -5.6511, -6.9027, -6.8066, -5.9665, -5.9725, -6.8442, -6.4922, -6.1742, -6.5161, -6.1662, -6.2012, -6.6969, -6.5852, -5.7643, -5.8688, -6.1915, -6.1767, -6.2559, -5.8674, -6.0124, -5.3897, -5.6948, -6.0773, -5.6413, -5.7237, -5.7759, -5.9838, -5.6852, -5.79, -5.9257, -5.7612, -5.8173, -6.1151, -5.9003, -5.943, -6.0294, -6.0204, -6.0618, -6.088, -6.0547, -6.9734, -7.1208, -7.1212, -7.2938, -7.342, -6.3801, -7.5626, -6.7623, -7.5131, -6.6422, -5.6557, -7.9329, -7.9329, -7.5843, -7.9334, -7.3738, -8.1293, -7.0012, -8.1351, -7.666, -7.8006, -8.2439, -8.244, -7.0394, -7.1136, -8.3735, -8.3737, -8.376, -6.7463, -7.5131, -5.9659, -6.7789, -6.6585, -6.8029, -5.1744, -6.4535, -6.6102, -6.3846, -6.389, -6.1325, -6.0682, -7.1433, -7.2152, -6.1113, -6.5412, -5.8158, -6.1713, -5.9763, -6.576, -4.7207, -5.9987, -5.3904, -6.2498, -5.8708, -5.9515, -6.2912, -5.8335, -5.4335, -6.2258, -5.2803, -6.1189, -6.2048, -6.0947, -5.9928, -6.0448, -5.8183, -5.7082, -5.8194, -5.8034, -5.937, -6.1177, -6.0545, -6.1242, -5.9847, -6.0153, -6.0575, -6.0848, -6.1091, -5.7478, -6.2592, -6.2356, -6.337, -6.708, -6.4556, -6.855, -6.9499, -7.0009, -7.001, -7.1116, -6.698, -7.2359, -7.2361, -7.3045, -7.3407, -7.4169, -7.4169, -7.2744, -7.4574, -7.4574, -6.6333, -7.5001, -7.2771, -7.5437, -7.6381, -7.6382, -7.6889, -6.8139, -6.3556, -6.5476, -6.819, -6.9057, -6.9069, -6.8641, -6.6444, -6.2672, -6.791, -5.0717, -6.0131, -4.9172, -6.8898, -6.1248, -6.1394, -6.4725, -5.9051, -5.3373, -5.6316, -6.2703, -4.6746, -6.2961, -6.2137, -6.6244, -6.4472, -5.5622, -6.1646, -6.1152, -5.9624, -5.3187, -5.7123, -5.7043, -5.8862, -5.6558, -5.7414, -5.9916, -5.8486, -5.9118, -5.7714, -6.1674, -6.1447, -6.1103, -6.1133, -6.0999, -6.1761, -6.2955, -5.423, -6.7557, -5.608, -5.1954, -4.7098, -6.3082, -5.7862, -6.0683, -6.5078, -7.6768, -5.6938, -6.7491, -6.1288, -6.4743, -6.9324, -7.0127, -5.7524, -4.9805, -5.461, -6.5506, -7.6545, -6.67, -6.4025, -6.9941, -6.3532, -6.5633, -6.2178, -7.4571, -7.7242, -6.2015, -5.6999, -5.9848, -6.0335, -5.0102, -6.0532, -5.9069, -5.9138, -4.9149, -5.2599, -4.9563, -5.241, -5.6756, -5.9244, -5.9083, -5.3194, -5.2097, -5.0699, -5.4723, -5.6216, -5.4002, -5.3977, -5.2061, -5.6583, -5.7333, -5.5056, -5.3749, -5.864, -5.8314, -5.8451, -6.7522, -6.7522, -6.5911, -6.4838, -7.1006, -7.1007, -7.154, -7.2705, -7.2706, -7.3343, -5.5008, -7.335, -7.3367, -7.4024, -7.4026, -7.4028, -7.4755, -7.283, -7.5541, -5.6419, -7.2893, -7.6394, -7.6397, -7.6402, -7.6401, -7.6403, -7.0859, -7.0859, -6.7973, -7.7333, -6.0368, -6.1257, -6.0111, -6.4732, -5.3149, -5.556, -6.5418, -6.1336, -5.2705, -6.2718, -6.4408, -5.9862, -6.4271, -5.7297, -6.8974, -5.418, -6.1017, -6.3219, -6.6025, -6.0374, -5.8159, -6.399, -5.4407, -5.2413, -6.1425, -5.0772, -4.1576, -5.5441, -5.4131, -5.4204, -5.649, -5.1377, -5.0761, -5.9508, -5.3931, -5.6208, -5.4623, -5.7029, -5.8563, -5.2386, -5.6103, -5.4103, -5.7567, -5.4192, -5.7953, -5.5479, -5.7743, -5.795], \"loglift\": [30.0, 29.0, 28.0, 27.0, 26.0, 25.0, 24.0, 23.0, 22.0, 21.0, 20.0, 19.0, 18.0, 17.0, 16.0, 15.0, 14.0, 13.0, 12.0, 11.0, 10.0, 9.0, 8.0, 7.0, 6.0, 5.0, 4.0, 3.0, 2.0, 1.0, 1.7298, 1.7262, 1.7229, 1.7188, 1.717, 1.7155, 1.7106, 1.7103, 1.7071, 1.7044, 1.704, 1.698, 1.6978, 1.6977, 1.697, 1.697, 1.695, 1.6942, 1.6936, 1.6912, 1.6909, 1.6897, 1.6872, 1.6872, 1.6871, 1.687, 1.6869, 1.6867, 1.6867, 1.6837, 1.6786, 1.6781, 1.6612, 1.6611, 1.6684, 1.6115, 1.5962, 1.6584, 1.6415, 1.5657, 1.5539, 1.6395, 1.5753, 1.5087, 1.5734, 1.4674, 1.448, 1.5953, 1.5548, 1.2651, 1.2898, 1.3827, 1.3662, 1.3614, 1.0963, 1.1858, 0.7652, 0.914, 1.1864, 0.7376, 0.7722, 0.7895, 0.9439, 0.4386, 0.4978, 0.7002, 0.247, 0.3568, 1.0414, 0.1114, 0.2464, 0.6244, 0.3228, 0.6035, 0.7157, -0.9974, 1.3904, 1.3862, 1.3858, 1.3803, 1.3787, 1.3771, 1.3697, 1.3672, 1.3626, 1.362, 1.355, 1.3481, 1.3481, 1.3478, 1.3476, 1.3468, 1.3344, 1.3294, 1.3285, 1.3272, 1.3258, 1.3253, 1.3253, 1.3247, 1.3188, 1.3138, 1.3135, 1.3112, 1.311, 1.3082, 1.3022, 1.3028, 1.3012, 1.2978, 1.248, 1.2856, 1.2839, 1.2733, 1.2658, 1.2385, 1.209, 1.2889, 1.2932, 1.1742, 1.2183, 1.1243, 1.1655, 1.1248, 1.2029, 0.8109, 1.084, 0.887, 1.1103, 0.9885, 0.9902, 1.1026, 0.9298, 0.7559, 1.0656, 0.6401, 1.0066, 0.9697, 0.8804, 0.7525, 0.7841, 0.5409, 0.3177, 0.3547, 0.2819, 0.4747, 0.7872, 0.5891, 0.6732, 0.1344, 0.1436, 0.3429, 0.3397, 0.2341, 1.1047, 1.1041, 1.1034, 1.1034, 1.0987, 1.098, 1.0964, 1.0947, 1.0937, 1.0936, 1.0913, 1.0898, 1.0884, 1.0882, 1.0866, 1.0855, 1.0835, 1.0835, 1.0828, 1.0822, 1.0822, 1.082, 1.0805, 1.0802, 1.0794, 1.0761, 1.076, 1.0741, 1.0731, 1.0718, 1.0674, 1.0682, 1.0684, 1.0676, 1.0656, 1.0554, 1.0383, 1.0555, 0.9645, 1.0092, 0.8527, 1.0409, 0.9518, 0.9027, 0.9576, 0.8382, 0.6743, 0.7288, 0.8774, 0.3827, 0.8801, 0.849, 0.9768, 0.9052, 0.5231, 0.7528, 0.7271, 0.6184, 0.2129, 0.4465, 0.4149, 0.5383, 0.3701, 0.4108, 0.5009, 0.3403, 0.3761, 0.149, 0.6107, 0.4822, 0.2489, 0.1641, -0.0035, -0.0212, 2.5497, 2.5464, 2.5181, 2.517, 2.5153, 2.5137, 2.434, 2.4069, 2.3941, 2.3759, 2.3599, 2.3507, 2.3017, 2.2599, 2.255, 2.2507, 2.2431, 2.2396, 2.2337, 2.2304, 2.2251, 2.2189, 2.2029, 2.1971, 2.1895, 2.1735, 2.1674, 2.1649, 2.1629, 2.1463, 2.1155, 2.0863, 2.0897, 2.0885, 1.9043, 2.043, 1.9896, 1.9592, 1.5334, 1.6142, 1.444, 1.4474, 1.731, 1.8904, 1.8679, 1.3075, 1.1888, 1.0493, 1.4104, 1.5348, 1.1795, 1.1639, 0.8198, 1.4092, 1.4701, 0.9062, 0.5455, 1.3902, 1.0136, 1.0899, 1.6859, 1.6858, 1.6827, 1.6756, 1.6741, 1.674, 1.672, 1.6668, 1.6668, 1.6638, 1.6634, 1.663, 1.6613, 1.6603, 1.66, 1.6598, 1.6562, 1.6545, 1.6518, 1.6502, 1.6478, 1.6466, 1.6463, 1.6458, 1.6458, 1.6457, 1.6406, 1.6406, 1.6402, 1.6398, 1.6386, 1.6368, 1.6311, 1.6328, 1.6028, 1.5986, 1.6166, 1.5933, 1.5305, 1.585, 1.5916, 1.5484, 1.5807, 1.5091, 1.6142, 1.4031, 1.492, 1.5146, 1.5574, 1.4553, 1.4089, 1.5191, 1.3125, 1.2466, 1.4504, 1.1911, 0.8997, 1.2817, 1.2386, 1.2055, 1.2759, 1.0665, 1.0204, 1.3778, 1.1234, 1.2262, 1.1032, 1.2309, 1.319, 0.7696, 1.039, 0.7136, 1.116, 0.6067, 1.1687, 0.6043, 1.0701, 0.9274]}, \"token.table\": {\"Topic\": [1, 2, 3, 4, 5, 1, 2, 3, 2, 4, 2, 3, 3, 4, 2, 3, 4, 5, 2, 3, 4, 2, 3, 4, 3, 5, 1, 1, 2, 3, 4, 5, 1, 2, 3, 4, 5, 1, 2, 3, 4, 5, 3, 4, 3, 1, 2, 3, 4, 5, 1, 2, 3, 5, 3, 5, 1, 5, 1, 1, 1, 4, 1, 3, 5, 3, 1, 2, 3, 4, 5, 1, 2, 3, 4, 5, 1, 3, 4, 1, 2, 3, 4, 5, 1, 2, 4, 5, 3, 4, 5, 1, 3, 3, 1, 3, 5, 1, 2, 1, 2, 3, 4, 5, 1, 2, 3, 5, 3, 2, 4, 2, 4, 5, 1, 2, 3, 5, 1, 3, 2, 3, 4, 1, 3, 1, 2, 3, 5, 1, 2, 3, 4, 5, 3, 4, 5, 2, 3, 4, 5, 1, 2, 3, 4, 5, 1, 3, 4, 5, 1, 2, 3, 5, 1, 1, 2, 3, 4, 5, 1, 2, 3, 4, 5, 1, 2, 3, 3, 2, 3, 5, 3, 1, 2, 3, 4, 5, 2, 3, 4, 5, 3, 1, 3, 4, 1, 2, 5, 1, 2, 3, 1, 3, 5, 1, 2, 3, 4, 2, 3, 1, 3, 4, 5, 2, 3, 2, 3, 2, 3, 4, 5, 3, 2, 1, 2, 3, 5, 5, 2, 3, 4, 1, 2, 3, 4, 5, 5, 2, 3, 3, 1, 2, 3, 4, 2, 2, 1, 2, 3, 4, 1, 2, 3, 5, 1, 2, 3, 4, 5, 1, 2, 3, 5, 1, 2, 3, 1, 2, 3, 4, 2, 1, 3, 2, 3, 4, 2, 1, 2, 3, 4, 5, 1, 2, 3, 2, 2, 5, 2, 3, 1, 2, 3, 5, 2, 3, 1, 3, 4, 5, 3, 4, 2, 3, 5, 1, 1, 4, 5, 2, 3, 4, 5, 1, 4, 2, 3, 2, 5, 1, 3, 2, 5, 1, 3, 5, 1, 1, 2, 3, 4, 5, 1, 5, 3, 1, 2, 3, 4, 5, 2, 3, 2, 3, 5, 3, 5, 1, 2, 3, 5, 1, 2, 1, 2, 3, 4, 5, 1, 3, 5, 2, 3, 4, 5, 1, 3, 5, 5, 1, 5, 5, 1, 2, 3, 4, 5, 3, 4, 5, 5, 5, 1, 2, 3, 4, 5, 1, 3, 5, 1, 1, 5, 1, 1, 2, 3, 4, 5, 1, 1, 2, 3, 4, 5, 3, 1, 2, 1, 2, 3, 4, 5, 2, 1, 2, 4, 2, 3, 1, 2, 3, 4, 1, 2, 3, 4, 5, 1, 3, 4, 1, 2, 2, 1, 2, 3, 4, 5, 1, 2, 3, 4, 5, 1, 2, 3, 4, 3, 5, 3, 2, 3, 3, 1, 3, 4, 5, 1, 2, 3, 4, 5, 2, 3, 5, 2, 3, 4, 1, 3, 1, 2, 3, 5, 1, 2, 3, 4, 5, 1, 1, 2, 3, 4, 5, 2, 5, 1, 2, 3, 4, 5, 5, 5, 5, 1, 2, 3, 4, 5, 1, 2, 3, 5, 2, 3, 4, 1, 2, 3, 4, 2, 1, 2, 3, 4, 5, 1, 3, 5, 2, 3, 5, 5, 2, 3, 1, 2, 3, 5, 1, 2, 3, 4, 2, 4, 1, 3, 1, 2, 3, 4, 1, 2, 3, 4, 5, 1, 2, 3, 5, 1, 2, 3, 4, 3, 3, 5, 2, 4, 1, 2, 3, 4, 5, 1, 3, 5, 2, 1, 2, 3, 4, 5, 2, 3, 1, 3, 4, 5, 5, 3, 2, 3, 4, 5, 1, 2, 3, 5, 2, 3, 4, 1, 1, 5, 1, 2, 1, 3, 5, 1, 2, 3, 4, 5, 1, 2, 3, 4, 5, 1, 2, 3, 1, 2, 4, 1, 1, 1, 1, 2, 3, 4, 5, 2, 3, 4, 1, 2, 3, 4, 5, 1, 4, 1, 2, 3, 4, 5, 1, 1, 2, 4, 5, 2, 3, 1, 2, 3, 4, 2, 3, 4, 2, 5, 1, 4, 3, 1, 2, 3, 4, 5, 2, 1, 2, 3, 4, 1, 2, 3, 1, 2, 3, 2, 3, 4, 5, 1, 2, 3, 4, 2, 2, 3, 2, 5, 2, 4, 3, 5, 4, 2, 4, 1, 2, 3, 4, 5, 3, 3, 1, 2, 3, 4, 2, 4, 1, 2, 3, 4, 5, 2, 3, 4, 5, 2, 5, 1, 2, 3, 4, 5, 1, 5, 1, 2, 3, 4, 5, 1, 2, 2, 3, 1, 1, 2, 3, 4, 5, 2, 3, 5, 1, 2, 3, 5, 1, 2, 4, 1, 2, 3, 4, 5, 2, 3, 4, 5, 3, 2, 3, 1, 2, 3, 4, 5, 2, 3, 4, 5, 1, 2, 3, 4, 5, 1, 2, 3, 4, 5, 3, 4, 5, 5, 1, 3, 5, 1, 2, 3, 1, 2, 3, 4, 5, 5, 5, 3, 1, 5, 1, 2, 3, 4, 5, 2, 3, 4, 5, 3, 4, 1, 2, 3, 4, 5, 3, 4, 3, 5, 5, 3, 5, 1, 2, 3, 4, 5, 3, 4, 2, 3, 4, 5, 1, 2, 2, 3, 4, 2, 4, 1, 2, 3, 4, 5, 1, 2, 3, 4, 5, 1, 2, 3, 4, 5, 5, 5, 3, 3, 4, 2, 3, 4, 5, 1, 2, 3, 4, 5, 1, 2, 3, 4, 1, 2, 3, 5, 2, 3, 4, 2, 3, 4, 5, 1, 3, 5, 1, 2, 3, 4, 5, 1, 2, 3, 4, 5, 3, 1, 2, 3, 5, 3, 1, 3, 5, 1, 2, 3, 4, 5, 1, 1, 2, 3, 5, 1, 2, 3, 5, 5, 1, 2, 3, 4, 5, 1, 2, 3, 4, 5, 2, 3, 5, 1, 1, 1, 3, 5, 1, 3, 5, 1, 2, 3, 5], \"Freq\": [0.08106077281954027, 0.3207187098512246, 0.5533278840290358, 0.0422925771232384, 0.0035243814269365335, 0.0993430739249841, 0.6495508679710499, 0.244536797353807, 0.31047725570338075, 0.6209545114067615, 0.9318591357129579, 0.06656136683663984, 0.15567805932198028, 0.6227122372879211, 0.41106804500747346, 0.1783880195315451, 0.3722880407614854, 0.03878000424598806, 0.8662716446990159, 0.06794287409404046, 0.05095715557053034, 0.20284872494150516, 0.6761624164716838, 0.12020665181718823, 0.07976696766674435, 0.91732012816756, 0.9741520128739285, 0.11379693291341876, 0.28069910118643293, 0.5120861981103845, 0.015172924388455836, 0.07586462194227918, 0.09547269211724325, 0.5114608506280889, 0.3068765103768533, 0.06137530207537067, 0.013638956016749037, 0.042429800654889396, 0.016971920261955757, 0.33943840523911517, 0.025457880392933636, 0.5770452889064958, 0.17359077485976407, 0.8100902826788989, 0.9828329191616179, 0.11618036111684792, 0.6555891805879276, 0.08298597222631994, 0.1493747500073759, 0.008298597222631994, 0.13872324326424745, 0.0163203815604997, 0.19584457872599642, 0.6446550716397382, 0.08404541704941518, 0.8964844485270952, 0.9517883280678032, 0.03226401112094248, 0.9722526172035438, 0.9741576821733925, 0.3124242325348178, 0.7029545232033401, 0.11224261396642786, 0.028060653491606965, 0.8418196047482089, 0.9793120937505333, 0.3542515723193227, 0.1807405981221034, 0.2168887177465241, 0.04337774354930482, 0.20242946989675584, 0.32102701409429174, 0.19513406739064793, 0.1510715360443726, 0.012589294670364383, 0.32102701409429174, 0.29793799504052343, 0.0496563325067539, 0.6455323225878007, 0.15601254696920852, 0.11556484960682112, 0.47959412586830763, 0.24268618417432436, 0.011556484960682113, 0.07500202690406158, 0.07500202690406158, 0.7750209446753029, 0.07500202690406158, 0.027096089810991996, 0.9212670535737278, 0.05419217962198399, 0.9220712255888412, 0.04191232843585642, 0.9744577833246207, 0.20773177837517262, 0.07331709825006093, 0.708731949750589, 0.17252676018258625, 0.8051248808520691, 0.014488654645459148, 0.34289815994253314, 0.24147757742431913, 0.31875040220010126, 0.08693192787275489, 0.16766647206976895, 0.06209869335917369, 0.14903686406201685, 0.6209869335917368, 0.9591397518837923, 0.1832911401466803, 0.7331645605867212, 0.05022907035730902, 0.8538941960742534, 0.05022907035730902, 0.5684622112247796, 0.12870842518296896, 0.23596544616877643, 0.06435421259148448, 0.9441377745427899, 0.9899884793424492, 0.07594245375893494, 0.07594245375893494, 0.8353669913482843, 0.9486516520414788, 0.04992903431797257, 0.015013348863898589, 0.030026697727797178, 0.10509344204729013, 0.840747536378321, 0.13456615346355305, 0.11136509252156115, 0.682111191694562, 0.009280424376796763, 0.06496297063757733, 0.1660598980793286, 0.7116852774828368, 0.14233705549656736, 0.14024206905238684, 0.14024206905238684, 0.6661498279988375, 0.07012103452619342, 0.4937506042054649, 0.02057294184189437, 0.06171882552568311, 0.34974001131220434, 0.0720052964466303, 0.8750412258963163, 0.08627167015879175, 0.01232452430839882, 0.01232452430839882, 0.6159925800329843, 0.13588071618374656, 0.17211557383274562, 0.06341100088574839, 0.9615013545113414, 0.04799472069490535, 0.5359410477597765, 0.26397096382197943, 0.007999120115817559, 0.14398416208471607, 0.11933051327790045, 0.06508937087885479, 0.24408514079570548, 0.010848228479809131, 0.5532596524702658, 0.008995269372571672, 0.08995269372571671, 0.8995269372571671, 0.9569940311736064, 0.013488034277950502, 0.9576504337344857, 0.013488034277950502, 0.9844671379165961, 0.028735500560686137, 0.4741357592513213, 0.3160905061675475, 0.13649362766325915, 0.05028712598120074, 0.9046323873891167, 0.17422042113974415, 0.6533265792740406, 0.13066531585480812, 0.979472211028688, 0.0780625997089164, 0.1561251994178328, 0.7025633973802475, 0.9137510864054986, 0.0268750319531029, 0.0268750319531029, 0.013041486873226453, 0.7303232649006813, 0.2477882505913026, 0.018857118229401625, 0.03771423645880325, 0.9239987932406797, 0.02705090532870595, 0.09467816865047084, 0.8521035178542375, 0.02705090532870595, 0.14245818355396953, 0.8547491013238171, 0.03764305042663343, 0.63052109464611, 0.3011444034130674, 0.028232287819975072, 0.8851268726106318, 0.07376057271755265, 0.9110037355926943, 0.06073358237284629, 0.1545691523715755, 0.2060922031621007, 0.5925150840910395, 0.025761525395262587, 0.9725476529892223, 0.9187787234136137, 0.6288039748562179, 0.05154130941444409, 0.26801480895510926, 0.05154130941444409, 0.951751467535723, 0.17205916261253873, 0.34411832522507746, 0.4779421183681631, 0.1261983013703495, 0.21586551550191363, 0.262359626533095, 0.06642015861597343, 0.32877978514906847, 0.9517083431656466, 0.03254281326019714, 0.9600129911758156, 0.9844669617265114, 0.006441745930190968, 0.33497078836993033, 0.3414125343001213, 0.31564555057935745, 0.9300856341371149, 0.9470150100301975, 0.034560484036426066, 0.8442632528898367, 0.11355587611968564, 0.004937212005203724, 0.04050981267834448, 0.008101962535668895, 0.04861177521401337, 0.8912158789235786, 0.38166125579590937, 0.028482183268351446, 0.028482183268351446, 0.01708930996101087, 0.5411614820986775, 0.0719841055322081, 0.05758728442576649, 0.10077774774509135, 0.7774283397478476, 0.9280434092104947, 0.029936884168080474, 0.029936884168080474, 0.07344524213737744, 0.11541395193016454, 0.7869133086147583, 0.010492177448196777, 0.9046384954430754, 0.017988440585439552, 0.9713757916137359, 0.16790372133563847, 0.08395186066781923, 0.6716148853425539, 0.9528564190348692, 0.03527198623452817, 0.07054397246905635, 0.07054397246905635, 0.7054397246905635, 0.07054397246905635, 0.034413365022326524, 0.8947474905804896, 0.034413365022326524, 0.9301097325988839, 0.9038401340746286, 0.06456000957675918, 0.9211690122091758, 0.07369352097673407, 0.041071481028377904, 0.010267870257094476, 0.05133935128547237, 0.8933047123672193, 0.9566329982726358, 0.03751501954010336, 0.02632810585402293, 0.31593727024827517, 0.5792183287885044, 0.05265621170804586, 0.2862085333056516, 0.6869004799335638, 0.03185624933933853, 0.15928124669669266, 0.7964062334834633, 0.9256464688410126, 0.022000709153494377, 0.9240297844467639, 0.05500177288373594, 0.055068969305254484, 0.19824828949891615, 0.011013793861050898, 0.7379241886904101, 0.8647201502415638, 0.12810668892467614, 0.9424926839428671, 0.0533486424873321, 0.8697654819600594, 0.054360342622503714, 0.8921305307952992, 0.0775765678952434, 0.9718741368081798, 0.9517175033513668, 0.8368679514662425, 0.10460849393328031, 0.052304246966640155, 0.9578186875390581, 0.8561345703469033, 0.05632464278598048, 0.022529857114392194, 0.011264928557196097, 0.04505971422878439, 0.9502093122757879, 0.03276583835433751, 0.9809865985032884, 0.03546487060514113, 0.18239076311215438, 0.4205120371752448, 0.34451588587851384, 0.015199230259346198, 0.023300705861651495, 0.9553289403277113, 0.022032321715268737, 0.15422625200688117, 0.8151959034649433, 0.22282559788802872, 0.7639734784732413, 0.05284141426911348, 0.05284141426911348, 0.2717558448125836, 0.6114506508283131, 0.8983741089627967, 0.07486450908023305, 0.22187945453977512, 0.21535358822978173, 0.15988372459483796, 0.013051732619986772, 0.38828904544460646, 0.19243232880563885, 0.13745166343259918, 0.6666405676481061, 0.2770769796502795, 0.4958219635847107, 0.21509923420219068, 0.010937249196721559, 0.6849124155670554, 0.13045950772705817, 0.17938182312470496, 0.9747153465437527, 0.028045062070442963, 0.9535321103950608, 0.9159162950935622, 0.26368825673269236, 0.030135800769450553, 0.14314505365489014, 0.20341665519379123, 0.354095659041044, 0.2980652757896308, 0.49677545964938474, 0.1987101838597539, 0.9730614541741502, 0.9768462100947958, 0.2417457303871741, 0.3056030931309559, 0.3056030931309559, 0.01368372058795325, 0.1322759656835481, 0.7836299372662819, 0.139311988847339, 0.05224199581775213, 0.9256513114741085, 0.94109657650663, 0.026888473614475144, 0.9578246004474824, 0.37405980330450667, 0.06801087332809212, 0.32116245738265725, 0.02267029110936404, 0.21158938368739771, 0.9741549473904445, 0.2891470555610984, 0.0129468830848253, 0.4790346741385361, 0.01726251077976707, 0.2071501293572048, 0.9860063417652594, 0.07951482530703294, 0.8746630783773623, 0.1372853150693084, 0.5834625890445607, 0.20592797260396262, 0.0686426575346542, 0.008580332191831776, 0.9469956892201596, 0.819069471914727, 0.029784344433262798, 0.1340295499496826, 0.8991178365429482, 0.10577856900505272, 0.012609753805565678, 0.7313657207228093, 0.20175606088905085, 0.037829261416697034, 0.007414033808480259, 0.5338104342105787, 0.19276487902048675, 0.17052277759504597, 0.09638243951024338, 0.02900503229464763, 0.11602012917859052, 0.8411459365447812, 0.048025701676452585, 0.9365011826908255, 0.9185247370034243, 0.041427617692728874, 0.7456971184691197, 0.11599732953964084, 0.04971314123127465, 0.04971314123127465, 0.14537888982903382, 0.03028726871438205, 0.5330559293731241, 0.27864287217231487, 0.018172361228629228, 0.7029720983022666, 0.015621602184494814, 0.21870243058292738, 0.04686480655348444, 0.9434523369838732, 0.04101966682538579, 0.9768431741031643, 0.00759027991207378, 0.9943266684816652, 0.9838088129603842, 0.05584493062141434, 0.10052087511854581, 0.022337972248565735, 0.8153359870726493, 0.1106986507608795, 0.047442278897519785, 0.1844977512681325, 0.031628185931679854, 0.6272923543116505, 0.9187716782342574, 0.9855314101504216, 0.9639411711420348, 0.04211997866399722, 0.4001397973079736, 0.5264997332999652, 0.023311842609143707, 0.9557855469748919, 0.7408452327477382, 0.016837391653357684, 0.16837391653357686, 0.06734956661343074, 0.32358901133774487, 0.00622286560264894, 0.23646889290065973, 0.01866859680794682, 0.41070912977483004, 0.9790896890107262, 0.08232777219122286, 0.07409499497210058, 0.19758665325893487, 0.02469833165736686, 0.6174582914341715, 0.8819263692501331, 0.10755199625001624, 0.04955522463670321, 0.20441530162640076, 0.22919291394475236, 0.012388806159175803, 0.5079410525262079, 0.9730763360115811, 0.9517097050073349, 0.9858883092379235, 0.15658009399017672, 0.05924652205033714, 0.18197146058317834, 0.008463788864333877, 0.5924652205033714, 0.35096891985746376, 0.006051188273404547, 0.04235831791383183, 0.5990676390670502, 0.19699973291830122, 0.16416644409858436, 0.6238324875746205, 0.03911460556009657, 0.32856268670481115, 0.3207397655927918, 0.30509392336875324, 0.9046428264865385, 0.14717370237100852, 0.14717370237100852, 0.13168173370037603, 0.023237953005948712, 0.5499648878074529, 0.011780964110340728, 0.04712385644136291, 0.9424771288272582, 0.016719173731404996, 0.05015752119421499, 0.9195545552272748, 0.9831898306255146, 0.9338892717019865, 0.0491520669316835, 0.08196570731822694, 0.08909316012850754, 0.3278628292729078, 0.49892169671964226, 0.03510906224012341, 0.7841023900294228, 0.05851510373353901, 0.11703020746707803, 0.2416587118610639, 0.6041467796526597, 0.0669391708108262, 0.9371483913515669, 0.009732843466913998, 0.7494289469523779, 0.22385539973902197, 0.019465686933827997, 0.020393116116824612, 0.05098279029206153, 0.7851349704977475, 0.030589674175236916, 0.11216213864253535, 0.0704568287601779, 0.30296436366876495, 0.6059287273375299, 0.021137048628053372, 0.016198968892362404, 0.25918350227779846, 0.6965556623715834, 0.016198968892362404, 0.9725472889512979, 0.04146839886652818, 0.9537731739301482, 0.023190048030782028, 0.9507919692620632, 0.05656267726149075, 0.08998607746146256, 0.7713092353839648, 0.010284123138452863, 0.07455989275378326, 0.19644035035308863, 0.6449791503259744, 0.16042628612168905, 0.9854327180416824, 0.12050210568717738, 0.4171226735325371, 0.42175736990512086, 0.03244287460808622, 0.009269392745167492, 0.17518955760064925, 0.8133800888601572, 0.19326896056544743, 0.299900111222246, 0.05331557532839929, 0.453182390291394, 0.9439403116921994, 0.9868209839771628, 0.057927642431207356, 0.2896382121560368, 0.5985856384558094, 0.057927642431207356, 0.18259469515005292, 0.06351119831306189, 0.23022809388484933, 0.5239673860827606, 0.8822560731592101, 0.025948708034094412, 0.07784612410228324, 0.9791220667782528, 0.974152668405714, 0.9634725739339238, 0.9890743853999008, 0.9528265117236386, 0.055050036142582984, 0.8074005300912172, 0.13762509035645745, 0.011304402500600214, 0.13565283000720257, 0.4936255758595427, 0.026376939168067166, 0.32782767251740624, 0.10970901136167115, 0.6682276146574515, 0.14960319731136973, 0.059841278924547894, 0.019947092974849298, 0.7625525700149545, 0.14919506804640412, 0.08288614891466896, 0.9352043405511177, 0.038171605736780315, 0.019085802868390157, 0.917939209762181, 0.9791471645133357, 0.925674821329492, 0.37728308563341184, 0.11690461808359241, 0.14878769574275397, 0.09564923297748469, 0.26037846754981947, 0.8124890662796311, 0.15089082659478864, 0.034820959983412766, 0.06159427246005772, 0.7760878329967272, 0.0862319814440808, 0.024637708984023086, 0.04927541796804617, 0.972396890836918, 0.03889587563347672, 0.6813047703714904, 0.030280212016510683, 0.1514010600825534, 0.015140106008255341, 0.10598074205778739, 0.9860618477954782, 0.8442638082787397, 0.051167503532044835, 0.025583751766022417, 0.07675125529806726, 0.021357500171738028, 0.9610875077282114, 0.021561717723572172, 0.19405545951214953, 0.4527960721950156, 0.32342576585358257, 0.04775774125325333, 0.9312759544384398, 0.023878870626626664, 0.8413699518855191, 0.1529763548882762, 0.32392853141254246, 0.6478570628250849, 0.9860075615450908, 0.01677824617738815, 0.1006694770643289, 0.8624018535177509, 0.01342259694191052, 0.01006694770643289, 0.9470315267248165, 0.02354576601492467, 0.7063729804477401, 0.08241018105223634, 0.18836612811939735, 0.0213535764838766, 0.5893587109549941, 0.38863509200655416, 0.018419902482898057, 0.8841553191791067, 0.09209951241449028, 0.07628658406242167, 0.20706358531228738, 0.6974773399992839, 0.01089808343748881, 0.024737563808353975, 0.34137838055528485, 0.5640164548304706, 0.06926517866339113, 0.9832503707506138, 0.8841658790425623, 0.11052073488032028, 0.04944613676342221, 0.939476598505022, 0.2597067713369064, 0.6752376054759567, 0.9612679176444988, 0.04272301856197772, 0.9464887911259514, 0.9526529003928704, 0.027218654296939156, 0.011342752605708701, 0.29491156774842625, 0.37431083598838716, 0.29491156774842625, 0.022685505211417403, 0.9750809084793702, 0.9768403988953394, 0.07644785055488133, 0.7166985989520125, 0.2006756077065635, 0.009555981319360167, 0.9116447680965702, 0.07597039734138085, 0.04312640487150905, 0.04312640487150905, 0.23719522679329977, 0.5390800608938632, 0.12937921461452714, 0.8971779567590097, 0.04600912598764152, 0.04600912598764152, 0.01150228149691038, 0.04944612830035647, 0.9394764377067729, 0.36400156830702646, 0.04254563785406803, 0.21272818927034012, 0.07563668951834315, 0.3025467580733726, 0.911800247587628, 0.0455900123793814, 0.5259217089368753, 0.11027390671257062, 0.22054781342514124, 0.04241304104329639, 0.11027390671257062, 0.9486184299183287, 0.024963642892587595, 0.044575428375139586, 0.9583717100655011, 0.9741590756959424, 0.06429667747593425, 0.002521438332389578, 0.4815947214864094, 0.010085753329558312, 0.44251242733437096, 0.026587292510850374, 0.026587292510850374, 0.930555237879763, 0.08676863807691232, 0.150398972666648, 0.6073804665383862, 0.15618354853844219, 0.8387046340123856, 0.13479181618056196, 0.029953736929013774, 0.4500789265498901, 0.16366506419996005, 0.26186410271993604, 0.016366506419996003, 0.11456554493997202, 0.2060999770550942, 0.5358599403432449, 0.22258797521950174, 0.03297599632881507, 0.9591553245263714, 0.019340220358765082, 0.9670110179382541, 0.019539440262370558, 0.39078880524741116, 0.3614796448538553, 0.18562468249252032, 0.039078880524741115, 0.6389665077890996, 0.2513966588022687, 0.08379888626742289, 0.020949721566855723, 0.43425179239339473, 0.26174080637410096, 0.1784596407096143, 0.02974327345160238, 0.09517847504512762, 0.008075401576004775, 0.2907144567361719, 0.1292064252160764, 0.500674897712296, 0.0646032126080382, 0.07162617253160432, 0.9311402429108562, 0.985889903133727, 0.9768477215452328, 0.8252089287645269, 0.16504178575290537, 0.9582901527795719, 0.15040708577895112, 0.8272389717842311, 0.03760177144473778, 0.17354526776314305, 0.2313936903508574, 0.13980035458697634, 0.24585579599778598, 0.2121108828216193, 0.9688069165035867, 0.9634718147843107, 0.9877399224950698, 0.9741594027809158, 0.9730856837573962, 0.020258277817634625, 0.5449476732943714, 0.407191384134456, 0.024309933381161553, 0.0020258277817634626, 0.46023853805278603, 0.3825359277321858, 0.12850816322253117, 0.029885619354077016, 0.29859720022143543, 0.7025816475798481, 0.22456631313932493, 0.039629349377527934, 0.2641956625168529, 0.42271306002696457, 0.05283913250337057, 0.2479220140364625, 0.694181639302095, 0.10361062324280056, 0.8703292352395247, 0.9155906582008506, 0.03703761507923384, 0.9259403769808459, 0.06942763081683237, 0.6109631511881248, 0.2568822340222798, 0.041656578490099426, 0.020828289245049713, 0.2051565087731413, 0.7522405321681847, 0.3744959386914303, 0.35179921513437384, 0.23831559734909197, 0.03404508533558457, 0.9416918597765397, 0.03553554187835999, 0.8635719018658139, 0.10159669433715457, 0.016932782389525763, 0.9633156388043348, 0.9401648607986133, 0.146758314262745, 0.04193094693221285, 0.12579284079663855, 0.010482736733053213, 0.6708951509154056, 0.15812065968251185, 0.05270688656083728, 0.22588665668930263, 0.03764777611488377, 0.5270688656083728, 0.03604944808032018, 0.050469227312448246, 0.05767911692851228, 0.021629668848192108, 0.8291373058473641, 0.9517258864442053, 0.9688002292594614, 0.9887573654479938, 0.37819917527760405, 0.5943129897219492, 0.33209974368551315, 0.47490263347028383, 0.16937086927961173, 0.01992598462113079, 0.22292960908506607, 0.516258042091732, 0.14079764784319962, 0.0664877781481776, 0.05084359505448875, 0.022969225531212722, 0.8957997957172962, 0.045938451062425445, 0.022969225531212722, 0.9491411756060584, 0.060918971565837504, 0.12183794313167501, 0.8122529542111667, 0.017710029160661344, 0.9386315455150512, 0.017710029160661344, 0.10888282802069547, 0.7621797961448683, 0.006805176751293467, 0.12249318152328241, 0.017283497863414335, 0.05185049359024301, 0.9333088846243741, 0.24022024630858224, 0.43732403815152154, 0.04311645446564297, 0.04927594796073482, 0.22790125931839855, 0.27104302401460645, 0.10255681989741866, 0.21976461406589712, 0.04029017924541447, 0.36627435677649517, 0.9666110806438112, 0.24360344959163419, 0.10591454330071051, 0.5401641708336237, 0.11121027046574604, 0.9570291314565141, 0.13240572769611617, 0.13240572769611617, 0.7355873760895342, 0.09366222854621181, 0.08429600569159063, 0.7680302740789369, 0.028098668563863543, 0.028098668563863543, 0.9741593350849019, 0.036395083900498726, 0.018197541950249363, 0.036395083900498726, 0.8916795555622188, 0.5725701122719182, 0.02290280449087673, 0.14886822919069875, 0.25193084939964405, 0.9688104492074912, 0.25033590054662613, 0.3466189392184054, 0.23878193590601263, 0.011553964640613514, 0.15405286187484685, 0.11726942414147387, 0.2501747715018109, 0.4612597349564639, 0.00781796160943159, 0.16026821299334762, 0.02409858971079397, 0.09639435884317588, 0.8675492295885828, 0.9713210155053541, 0.9740997821452442, 0.04939817702106698, 0.04939817702106698, 0.8891671863792057, 0.06418903495633793, 0.8665519719105621, 0.06418903495633793, 0.05912867260196978, 0.07391084075246222, 0.21434143818214046, 0.6504153986216676], \"Term\": [\"000\", \"000\", \"000\", \"000\", \"000\", \"1960\", \"1960\", \"1960\", \"63\", \"63\", \"academic\", \"academic\", \"accommodate\", \"accommodate\", \"act\", \"act\", \"act\", \"act\", \"activities\", \"activities\", \"activities\", \"administration\", \"administration\", \"administration\", \"alexander\", \"alexander\", \"amateur\", \"american\", \"american\", \"american\", \"american\", \"american\", \"area\", \"area\", \"area\", \"area\", \"area\", \"asked\", \"asked\", \"asked\", \"asked\", \"asked\", \"assessment\", \"assessment\", \"aug\", \"available\", \"available\", \"available\", \"available\", \"available\", \"away\", \"away\", \"away\", \"away\", \"baby\", \"baby\", \"ball\", \"ball\", \"baseball\", \"bat\", \"battery\", \"battery\", \"bed\", \"bed\", \"bed\", \"berlin\", \"best\", \"best\", \"best\", \"best\", \"best\", \"better\", \"better\", \"better\", \"better\", \"better\", \"blocks\", \"blocks\", \"blocks\", \"board\", \"board\", \"board\", \"board\", \"board\", \"boat\", \"boat\", \"boat\", \"boat\", \"boats\", \"boats\", \"boats\", \"bob\", \"bob\", \"bombs\", \"boy\", \"boy\", \"boy\", \"bridge\", \"bridge\", \"business\", \"business\", \"business\", \"business\", \"business\", \"came\", \"came\", \"came\", \"came\", \"castro\", \"catastrophe\", \"catastrophe\", \"cattle\", \"cattle\", \"cattle\", \"center\", \"center\", \"center\", \"center\", \"charlie\", \"charter\", \"chemical\", \"chemical\", \"chemical\", \"chest\", \"chest\", \"child\", \"child\", \"child\", \"child\", \"city\", \"city\", \"city\", \"city\", \"city\", \"claim\", \"claim\", \"claim\", \"claims\", \"claims\", \"claims\", \"claims\", \"class\", \"class\", \"class\", \"class\", \"class\", \"clay\", \"clay\", \"clay\", \"clay\", \"club\", \"club\", \"club\", \"club\", \"coach\", \"college\", \"college\", \"college\", \"college\", \"college\", \"come\", \"come\", \"come\", \"come\", \"come\", \"committee\", \"committee\", \"committee\", \"communism\", \"communist\", \"communist\", \"communist\", \"communists\", \"company\", \"company\", \"company\", \"company\", \"company\", \"comprehensive\", \"concrete\", \"concrete\", \"concrete\", \"congo\", \"conversion\", \"conversion\", \"conversion\", \"cooling\", \"cooling\", \"cooling\", \"corps\", \"corps\", \"corps\", \"couldn\", \"couldn\", \"couldn\", \"council\", \"council\", \"council\", \"council\", \"county\", \"county\", \"court\", \"court\", \"court\", \"court\", \"coverage\", \"coverage\", \"creative\", \"creative\", \"credit\", \"credit\", \"credit\", \"credit\", \"cuba\", \"curriculum\", \"cut\", \"cut\", \"cut\", \"cut\", \"dad\", \"daily\", \"daily\", \"daily\", \"day\", \"day\", \"day\", \"day\", \"day\", \"dear\", \"democratic\", \"democratic\", \"democrats\", \"department\", \"department\", \"department\", \"department\", \"depreciation\", \"designers\", \"development\", \"development\", \"development\", \"development\", \"didn\", \"didn\", \"didn\", \"didn\", \"don\", \"don\", \"don\", \"don\", \"don\", \"door\", \"door\", \"door\", \"door\", \"drill\", \"drill\", \"drill\", \"east\", \"east\", \"east\", \"east\", \"educated\", \"election\", \"election\", \"electricity\", \"electricity\", \"electricity\", \"employee\", \"engine\", \"engine\", \"engine\", \"engine\", \"engine\", \"engineers\", \"engineers\", \"engineers\", \"evaluation\", \"exceed\", \"exceed\", \"expenditures\", \"expenditures\", \"eyes\", \"eyes\", \"eyes\", \"eyes\", \"faculty\", \"faculty\", \"farm\", \"farm\", \"farm\", \"farm\", \"farmers\", \"farmers\", \"father\", \"father\", \"father\", \"favorite\", \"feed\", \"feed\", \"feed\", \"felt\", \"felt\", \"felt\", \"felt\", \"fig\", \"fig\", \"fiscal\", \"fiscal\", \"fishing\", \"fishing\", \"football\", \"football\", \"forests\", \"fountain\", \"frame\", \"frame\", \"frame\", \"gallery\", \"game\", \"game\", \"game\", \"game\", \"game\", \"games\", \"games\", \"gen\", \"general\", \"general\", \"general\", \"general\", \"general\", \"georgia\", \"georgia\", \"girl\", \"girl\", \"girl\", \"god\", \"god\", \"going\", \"going\", \"going\", \"going\", \"golf\", \"golf\", \"good\", \"good\", \"good\", \"good\", \"good\", \"got\", \"got\", \"got\", \"government\", \"government\", \"government\", \"government\", \"green\", \"green\", \"green\", \"hadn\", \"hair\", \"hair\", \"handsome\", \"head\", \"head\", \"head\", \"head\", \"head\", \"hearing\", \"hearing\", \"hearing\", \"heel\", \"hell\", \"high\", \"high\", \"high\", \"high\", \"high\", \"hit\", \"hit\", \"hit\", \"hits\", \"hole\", \"hole\", \"holes\", \"home\", \"home\", \"home\", \"home\", \"home\", \"homer\", \"house\", \"house\", \"house\", \"house\", \"house\", \"hughes\", \"import\", \"import\", \"important\", \"important\", \"important\", \"important\", \"important\", \"imports\", \"inch\", \"inch\", \"inch\", \"india\", \"india\", \"industrial\", \"industrial\", \"industrial\", \"industrial\", \"interest\", \"interest\", \"interest\", \"interest\", \"interest\", \"interference\", \"interference\", \"interference\", \"interior\", \"interior\", \"inventory\", \"island\", \"island\", \"island\", \"island\", \"island\", \"john\", \"john\", \"john\", \"john\", \"john\", \"junior\", \"junior\", \"junior\", \"junior\", \"jury\", \"jury\", \"katanga\", \"kennedy\", \"kennedy\", \"khrushchev\", \"knew\", \"knew\", \"knew\", \"knew\", \"know\", \"know\", \"know\", \"know\", \"know\", \"laboratories\", \"laos\", \"laughed\", \"laws\", \"laws\", \"laws\", \"leader\", \"leader\", \"league\", \"league\", \"league\", \"league\", \"left\", \"left\", \"left\", \"left\", \"left\", \"leg\", \"let\", \"let\", \"let\", \"let\", \"let\", \"library\", \"library\", \"life\", \"life\", \"life\", \"life\", \"life\", \"liked\", \"lips\", \"listening\", \"little\", \"little\", \"little\", \"little\", \"little\", \"ll\", \"ll\", \"ll\", \"ll\", \"loans\", \"loans\", \"loans\", \"local\", \"local\", \"local\", \"local\", \"locations\", \"look\", \"look\", \"look\", \"look\", \"look\", \"looked\", \"looked\", \"looked\", \"love\", \"love\", \"love\", \"loved\", \"maintain\", \"maintain\", \"man\", \"man\", \"man\", \"man\", \"management\", \"management\", \"management\", \"management\", \"manufactured\", \"manufactured\", \"mayor\", \"mayor\", \"medical\", \"medical\", \"medical\", \"medical\", \"meeting\", \"meeting\", \"meeting\", \"meeting\", \"meeting\", \"members\", \"members\", \"members\", \"members\", \"military\", \"military\", \"military\", \"military\", \"moscow\", \"mother\", \"mother\", \"motors\", \"motors\", \"mr\", \"mr\", \"mr\", \"mr\", \"mr\", \"mrs\", \"mrs\", \"mrs\", \"musical\", \"national\", \"national\", \"national\", \"national\", \"national\", \"nations\", \"nations\", \"night\", \"night\", \"night\", \"night\", \"nodded\", \"nuclear\", \"officer\", \"officer\", \"officer\", \"officer\", \"old\", \"old\", \"old\", \"old\", \"organizations\", \"organizations\", \"organizations\", \"paint\", \"paintings\", \"pale\", \"panels\", \"participation\", \"party\", \"party\", \"party\", \"people\", \"people\", \"people\", \"people\", \"people\", \"period\", \"period\", \"period\", \"period\", \"period\", \"piece\", \"piece\", \"piece\", \"pieces\", \"pieces\", \"pieces\", \"pitcher\", \"pitching\", \"pittsburgh\", \"place\", \"place\", \"place\", \"place\", \"place\", \"planning\", \"planning\", \"planning\", \"plant\", \"plant\", \"plant\", \"plant\", \"plant\", \"plastic\", \"plastic\", \"play\", \"play\", \"play\", \"play\", \"play\", \"player\", \"playing\", \"playing\", \"playing\", \"playing\", \"police\", \"police\", \"policy\", \"policy\", \"policy\", \"policy\", \"political\", \"political\", \"political\", \"pool\", \"pool\", \"pound\", \"pound\", \"premier\", \"president\", \"president\", \"president\", \"president\", \"president\", \"producers\", \"production\", \"production\", \"production\", \"production\", \"program\", \"program\", \"program\", \"projects\", \"projects\", \"projects\", \"property\", \"property\", \"property\", \"property\", \"public\", \"public\", \"public\", \"public\", \"publications\", \"published\", \"published\", \"puerto\", \"puerto\", \"ratio\", \"ratio\", \"rayburn\", \"rayburn\", \"recommendation\", \"recreation\", \"recreation\", \"report\", \"report\", \"report\", \"report\", \"report\", \"republican\", \"republicans\", \"research\", \"research\", \"research\", \"research\", \"resources\", \"resources\", \"respect\", \"respect\", \"respect\", \"respect\", \"respect\", \"rhode\", \"rhode\", \"rhode\", \"rhode\", \"rico\", \"rico\", \"right\", \"right\", \"right\", \"right\", \"right\", \"roy\", \"roy\", \"run\", \"run\", \"run\", \"run\", \"run\", \"runs\", \"runs\", \"russia\", \"russia\", \"ruth\", \"said\", \"said\", \"said\", \"said\", \"said\", \"sat\", \"sat\", \"sat\", \"school\", \"school\", \"school\", \"school\", \"season\", \"season\", \"season\", \"second\", \"second\", \"second\", \"second\", \"second\", \"secretary\", \"secretary\", \"secretary\", \"secretary\", \"sen\", \"senate\", \"senate\", \"service\", \"service\", \"service\", \"service\", \"service\", \"services\", \"services\", \"services\", \"services\", \"set\", \"set\", \"set\", \"set\", \"set\", \"shall\", \"shall\", \"shall\", \"shall\", \"shall\", \"shelter\", \"shelter\", \"shoes\", \"sick\", \"signs\", \"signs\", \"silent\", \"site\", \"site\", \"site\", \"small\", \"small\", \"small\", \"small\", \"small\", \"smile\", \"smiled\", \"soviet\", \"stadium\", \"stared\", \"state\", \"state\", \"state\", \"state\", \"state\", \"states\", \"states\", \"states\", \"states\", \"stations\", \"stations\", \"stock\", \"stock\", \"stock\", \"stock\", \"stock\", \"stockholders\", \"stockholders\", \"stood\", \"stood\", \"strange\", \"susan\", \"susan\", \"system\", \"system\", \"system\", \"system\", \"system\", \"tangible\", \"tangible\", \"tax\", \"tax\", \"tax\", \"tax\", \"team\", \"team\", \"technical\", \"technical\", \"technical\", \"textile\", \"thereof\", \"thing\", \"thing\", \"thing\", \"thing\", \"thing\", \"think\", \"think\", \"think\", \"think\", \"think\", \"thought\", \"thought\", \"thought\", \"thought\", \"thought\", \"till\", \"tongue\", \"troops\", \"trust\", \"trust\", \"united\", \"united\", \"united\", \"united\", \"use\", \"use\", \"use\", \"use\", \"use\", \"vehicles\", \"vehicles\", \"vehicles\", \"vehicles\", \"vernon\", \"voice\", \"voice\", \"voice\", \"vote\", \"vote\", \"vote\", \"war\", \"war\", \"war\", \"war\", \"wasn\", \"wasn\", \"wasn\", \"water\", \"water\", \"water\", \"water\", \"water\", \"way\", \"way\", \"way\", \"way\", \"way\", \"weapons\", \"week\", \"week\", \"week\", \"week\", \"welfare\", \"went\", \"went\", \"went\", \"west\", \"west\", \"west\", \"west\", \"west\", \"willie\", \"woman\", \"woman\", \"woman\", \"woman\", \"won\", \"won\", \"won\", \"won\", \"wondered\", \"work\", \"work\", \"work\", \"work\", \"work\", \"world\", \"world\", \"world\", \"world\", \"world\", \"wouldn\", \"wouldn\", \"wouldn\", \"yankees\", \"yards\", \"yes\", \"yes\", \"yes\", \"yesterday\", \"yesterday\", \"yesterday\", \"young\", \"young\", \"young\", \"young\"]}, \"R\": 30, \"lambda.step\": 0.01, \"plot.opts\": {\"xlab\": \"PC1\", \"ylab\": \"PC2\"}, \"topic.order\": [1, 2, 3, 4, 5]};\n",
       "\n",
       "function LDAvis_load_lib(url, callback){\n",
       "  var s = document.createElement('script');\n",
       "  s.src = url;\n",
       "  s.async = true;\n",
       "  s.onreadystatechange = s.onload = callback;\n",
       "  s.onerror = function(){console.warn(\"failed to load library \" + url);};\n",
       "  document.getElementsByTagName(\"head\")[0].appendChild(s);\n",
       "}\n",
       "\n",
       "if(typeof(LDAvis) !== \"undefined\"){\n",
       "   // already loaded: just create the visualization\n",
       "   !function(LDAvis){\n",
       "       new LDAvis(\"#\" + \"ldavis_el1355215765619205924460617342\", ldavis_el1355215765619205924460617342_data);\n",
       "   }(LDAvis);\n",
       "}else if(typeof define === \"function\" && define.amd){\n",
       "   // require.js is available: use it to load d3/LDAvis\n",
       "   require.config({paths: {d3: \"https://d3js.org/d3.v5\"}});\n",
       "   require([\"d3\"], function(d3){\n",
       "      window.d3 = d3;\n",
       "      LDAvis_load_lib(\"https://cdn.jsdelivr.net/gh/bmabey/pyLDAvis@3.3.1/pyLDAvis/js/ldavis.v3.0.0.js\", function(){\n",
       "        new LDAvis(\"#\" + \"ldavis_el1355215765619205924460617342\", ldavis_el1355215765619205924460617342_data);\n",
       "      });\n",
       "    });\n",
       "}else{\n",
       "    // require.js not available: dynamically load d3 & LDAvis\n",
       "    LDAvis_load_lib(\"https://d3js.org/d3.v5.js\", function(){\n",
       "         LDAvis_load_lib(\"https://cdn.jsdelivr.net/gh/bmabey/pyLDAvis@3.3.1/pyLDAvis/js/ldavis.v3.0.0.js\", function(){\n",
       "                 new LDAvis(\"#\" + \"ldavis_el1355215765619205924460617342\", ldavis_el1355215765619205924460617342_data);\n",
       "            })\n",
       "         });\n",
       "}\n",
       "</script>"
      ],
      "text/plain": [
       "<IPython.core.display.HTML object>"
      ]
     },
     "execution_count": 26,
     "metadata": {},
     "output_type": "execute_result"
    }
   ],
   "source": [
    "pyLDAvis.display(lda_display)"
   ]
  },
  {
   "cell_type": "markdown",
   "id": "a3d14c87",
   "metadata": {},
   "source": [
    "Q: What conclusions do you draw from the visualization above? Please address the principal component scatterplot and the salient terms graph.\n",
    "\n",
    "A: The principle component scatterplot demonstates that news is similar to (overlaps) with both government and romance corpora. Although the salient terms graph shows it still has enough terms unique to it. Interestingly enough the romance corpus can be almost completely included inside the news. Romance, editorial, and hobbies have the smallest marginal topic distribution meaning that the top words take up a small percentage of the total words. Furthermore, the top words in the news category have relatively close frequencies. I would say that 3 groups would be more clearly defined than 5.\n"
   ]
  },
  {
   "cell_type": "markdown",
   "id": "3a3ba253",
   "metadata": {},
   "source": []
  },
  {
   "cell_type": "markdown",
   "id": "82c4adb9",
   "metadata": {},
   "source": []
  }
 ],
 "metadata": {
  "kernelspec": {
   "display_name": "Python 3",
   "language": "python",
   "name": "python3"
  },
  "language_info": {
   "codemirror_mode": {
    "name": "ipython",
    "version": 3
   },
   "file_extension": ".py",
   "mimetype": "text/x-python",
   "name": "python",
   "nbconvert_exporter": "python",
   "pygments_lexer": "ipython3",
   "version": "3.8.5"
  },
  "vscode": {
   "interpreter": {
    "hash": "26ebadc3bb7524f525c5139797c5a2de68e5b8f29daaaf07d924c30439e8de33"
   }
  }
 },
 "nbformat": 4,
 "nbformat_minor": 5
}
