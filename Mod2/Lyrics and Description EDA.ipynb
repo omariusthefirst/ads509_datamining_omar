{
 "cells": [
  {
   "cell_type": "markdown",
   "id": "7f79baf9",
   "metadata": {},
   "source": [
    "# Omar Elfeky\n",
    "# ADS 509 Assignment 2.1: Tokenization, Normalization, Descriptive Statistics \n",
    "\n",
    "This notebook holds Assignment 2.1 for Module 2 in ADS 509, Applied Text Mining. Work through this notebook, writing code and answering questions where required. \n",
    "\n",
    "In the previous assignment you put together Twitter data and lyrics data on two artists. In this assignment we explore some of the textual features of those data sets. If, for some reason, you did not complete that previous assignment, data to use for this assignment can be found in the assignment materials section of Blackboard. \n",
    "\n",
    "This assignment asks you to write a short function to calculate some descriptive statistics on a piece of text. Then you are asked to find some interesting and unique statistics on your corpora. \n"
   ]
  },
  {
   "cell_type": "markdown",
   "id": "aae8e2e1",
   "metadata": {},
   "source": [
    "## General Assignment Instructions\n",
    "\n",
    "These instructions are included in every assignment, to remind you of the coding standards for the class. Feel free to delete this cell after reading it. \n",
    "\n",
    "One sign of mature code is conforming to a style guide. We recommend the [Google Python Style Guide](https://google.github.io/styleguide/pyguide.html). If you use a different style guide, please include a cell with a link. \n",
    "\n",
    "Your code should be relatively easy-to-read, sensibly commented, and clean. Writing code is a messy process, so please be sure to edit your final submission. Remove any cells that are not needed or parts of cells that contain unnecessary code. Remove inessential `import` statements and make sure that all such statements are moved into the designated cell. \n",
    "\n",
    "Make use of non-code cells for written commentary. These cells should be grammatical and clearly written. In some of these cells you will have questions to answer. The questions will be marked by a \"Q:\" and will have a corresponding \"A:\" spot for you. *Make sure to answer every question marked with a `Q:` for full credit.* \n"
   ]
  },
  {
   "cell_type": "code",
   "execution_count": 1,
   "id": "e2d096b7",
   "metadata": {},
   "outputs": [],
   "source": [
    "import os\n",
    "import re\n",
    "import emoji\n",
    "import pandas as pd\n",
    "import numpy as np\n",
    "#needed to run once\n",
    "#import nltk\n",
    "#nltk.download()\n",
    "from collections import Counter, defaultdict\n",
    "from nltk.corpus import stopwords\n",
    "from string import punctuation\n",
    "from collections import Counter\n",
    "sw = stopwords.words(\"english\")"
   ]
  },
  {
   "cell_type": "code",
   "execution_count": 2,
   "id": "6b555ab2",
   "metadata": {},
   "outputs": [],
   "source": [
    "from lexicalrichness import LexicalRichness\n",
    "import csv\n",
    "import regex\n",
    "#default is 1e6\n",
    "#jupyter notebook --NotebookApp.iopub_data_rate_limit=1.0e10\n",
    "#for my desktop\n",
    "os.environ['NUMEXPR_MAX_THREADS'] = '24'"
   ]
  },
  {
   "cell_type": "code",
   "execution_count": 3,
   "id": "923b5a86",
   "metadata": {},
   "outputs": [],
   "source": [
    "# change `data_location` to the location of the folder on your machine.\n",
    "data_location = \"/Users/elfek/datamining/\"\n",
    "\n",
    "# These subfolders should still work if you correctly stored the \n",
    "# data from the Module 1 assignment\n",
    "twitter_folder = \"twitter/\"\n",
    "lyrics_folder = \"lyrics/\""
   ]
  },
  {
   "cell_type": "code",
   "execution_count": 4,
   "id": "06522af9",
   "metadata": {},
   "outputs": [],
   "source": [
    "def descriptive_stats(tokens, num_tokens = 5, verbose=True) :\n",
    "    \"\"\"\n",
    "        Given a list of tokens, print number of tokens, number of unique tokens, \n",
    "        number of characters, lexical diversity (https://en.wikipedia.org/wiki/Lexical_diversity), \n",
    "        and num_tokens most common tokens. Return a list with the number of tokens, number\n",
    "        of unique tokens, lexical diversity, and number of characters. \n",
    "    \n",
    "    \"\"\"\n",
    "    from collections import Counter\n",
    "    # Fill in the correct values here. \n",
    "    num_tokens = len(tokens)\n",
    "    num_unique_tokens = len(set(tokens))\n",
    "    lexical_diversity = 0.0\n",
    "    # Return Measure of Textual Lexical Diversity (MTLD).\n",
    "    space = \" \"\n",
    "    text = space.join( tokens )\n",
    "    lex = LexicalRichness(text)\n",
    "    #len(tokens)\n",
    "    lexical_diversity = lex.hdd(draws=13) #lex.mtld(threshold=0.69) #lex.Herdan #lex.Summer \n",
    "    num_characters = 0\n",
    "    for token in tokens:\n",
    "        num_characters = num_characters + len(token)\n",
    "\n",
    "    if verbose :        \n",
    "        print(f\"There are {num_tokens} tokens in the data.\")\n",
    "        print(f\"There are {num_unique_tokens} unique tokens in the data.\")\n",
    "        print(f\"There are {num_characters} characters in the data.\")\n",
    "        print(f\"The lexical diversity is {lexical_diversity:.3f} in the data.\")\n",
    "        # print the five most common tokens\n",
    "        # Pass the split_it list to instance of Counter class.\n",
    "        Counter = Counter(tokens)\n",
    "        # most_common() produces k frequently encountered\n",
    "        # input values and their respective counts.\n",
    "        most_occur = Counter.most_common(5)\n",
    "        print(most_occur)\n",
    "  \n",
    "    return([num_tokens, num_unique_tokens,\n",
    "            lexical_diversity,\n",
    "            num_characters])"
   ]
  },
  {
   "cell_type": "code",
   "execution_count": 5,
   "id": "59dcf058",
   "metadata": {},
   "outputs": [
    {
     "name": "stdout",
     "output_type": "stream",
     "text": [
      "There are 13 tokens in the data.\n",
      "There are 9 unique tokens in the data.\n",
      "There are 55 characters in the data.\n",
      "The lexical diversity is 0.692 in the data.\n",
      "[('text', 3), ('here', 2), ('example', 2), ('is', 1), ('some', 1)]\n"
     ]
    }
   ],
   "source": [
    "text = \"\"\"here is some example text with other example text here in this text\"\"\".split()\n",
    "#text\n",
    "assert(descriptive_stats(text, verbose=True)[0] == 13)\n",
    "assert(descriptive_stats(text, verbose=False)[1] == 9)\n",
    "assert(abs(descriptive_stats(text, verbose=False)[2] - 0.69) < 0.02)\n",
    "assert(descriptive_stats(text, verbose=False)[3] == 55)\n"
   ]
  },
  {
   "cell_type": "markdown",
   "id": "d2e7e1a2",
   "metadata": {},
   "source": [
    "Q: Why is it beneficial to use assertion statements in your code? \n",
    "\n",
    "A: Assertion Statements help in debugging code. It allows you to test parts of code at known states."
   ]
  },
  {
   "cell_type": "markdown",
   "id": "9d3bf93e",
   "metadata": {},
   "source": [
    "## Data Input\n",
    "\n",
    "Now read in each of the corpora. For the lyrics data, it may be convenient to store the entire contents of the file to make it easier to inspect the titles individually, as you'll do in the last part of the assignment. In the solution, I stored the lyrics data in a dictionary with two dimensions of keys: artist and song. The value was the file contents. A data frame would work equally well. \n",
    "\n",
    "For the Twitter data, we only need the description field for this assignment. Feel free all the descriptions read it into a data structure. In the solution, I stored the descriptions as a dictionary of lists, with the key being the artist. \n",
    "\n",
    "\n"
   ]
  },
  {
   "cell_type": "code",
   "execution_count": 6,
   "id": "37d70801",
   "metadata": {},
   "outputs": [],
   "source": [
    "# Read in the lyrics data\n",
    "lyricsDictionary = {}\n",
    "songTitlesCher = []\n",
    "songTitlesRobyn = []\n",
    "#reading the file\n",
    "os.chdir(r\"C:\\Users\\elfek\\datamining\\lyrics\")\n",
    "for filename in os.listdir(\"cher\"):\n",
    "    with open(os.path.join(\"cher\", filename), 'r') as f:\n",
    "        songLyrics = f.read()\n",
    "        songTitle = songLyrics.split('\\n', 1)[0]\n",
    "        songTitlesCher.append(songTitle)\n",
    "        #print(songTitle)\n",
    "        artist = \"Cher\"\n",
    "        key = (songTitle.replace(\"\\\"\", \"\"), artist)\n",
    "        lyricsDictionary[key] = songLyrics\n",
    "\n",
    "        \n",
    "os.chdir(r\"C:\\Users\\elfek\\datamining\\lyrics\")\n",
    "for filename in os.listdir(\"robyn\"):\n",
    "    with open(os.path.join(\"robyn\", filename), 'r') as f:\n",
    "        songLyrics = f.read()\n",
    "        songTitle = songLyrics.split('\\n', 1)[0]\n",
    "        #print(songTitle)\n",
    "        songTitlesRobyn.append(songTitle)\n",
    "        artist = \"Robyn\"\n",
    "        key = (songTitle, artist)\n",
    "        lyricsDictionary[key] = songLyrics\n",
    "        \n",
    "\n",
    "    \n",
    "#tests\n",
    "#print(lyricsDictionary[('Again','Cher')])\n"
   ]
  },
  {
   "cell_type": "code",
   "execution_count": 7,
   "id": "debcac5a",
   "metadata": {},
   "outputs": [],
   "source": [
    "# Read in the twitter data\n",
    "# For the Twitter data, we only need the description field for this assignment. \n",
    "# Feel free all the descriptions read it into a data structure. In the solution,\n",
    "# I stored the descriptions as a dictionary of lists, with the key being the artist. \n",
    "  \n",
    "# read text file into pandas DataFrame and\n",
    "os.chdir(r\"C:\\Users\\elfek\\datamining\\twitter\")\n",
    "\n",
    "data = open(r\"cher_followers_data.txt\", encoding=\"utf8\").readlines()\n",
    "\n",
    "#descriptionListCher = \"\"\n",
    "descriptionCher = []\n",
    "for dataLine in data:\n",
    "    line = dataLine.split(\"\\t\")\n",
    "    count=0\n",
    "    for column in line:\n",
    "        count += 1\n",
    "        if (count == 7):\n",
    "            if (column != '\\n'):\n",
    "                #descriptionListCher += column #\n",
    "                descriptionCher.append(column)\n",
    "\n",
    "#remove the title line\n",
    "#descriptionCher = descriptionCher[1:-1]\n",
    "\n",
    "data = open(r\"robynkonichiwa_followers_data.txt\", encoding=\"utf8\").readlines()\n",
    "\n",
    "#descriptionListRobyn = \"\"\n",
    "descriptionRobyn = []\n",
    "for dataLine in data:\n",
    "    line = dataLine.split(\"\\t\")\n",
    "    count=0\n",
    "    for column in line:\n",
    "        count += 1\n",
    "        #skip the unnecessary columns\n",
    "        if (count == 7):\n",
    "            if (column != '\\n'):\n",
    "                #descriptionListRobyn += column # \n",
    "                descriptionRobyn.append(column)\n",
    "\n",
    "#remove the title line\n",
    "#descriptionRobyn = descriptionRobyn[1:-1]\n",
    "  \n",
    "#remove the first 6 words\n",
    "#re.sub(r'^((?:\\w+\\W+){6})', '', data[i])\n",
    "\n",
    "# Remove Special Characters from a String \n",
    "#new_text = re.sub(r\"[^a-zA-Z0-9 ]\", \"\", data)\n"
   ]
  },
  {
   "cell_type": "markdown",
   "id": "6a5f3b12",
   "metadata": {},
   "source": [
    "## Data Cleaning\n",
    "\n",
    "Now clean and tokenize your data. Remove punctuation chacters (available in the `punctuation` object in the `string` library), split on whitespace, fold to lowercase, and remove stopwords. Store your cleaned data, which must be accessible as an interable for `descriptive_stats`, in new objects or in new columns in your data frame. \n",
    "\n"
   ]
  },
  {
   "cell_type": "code",
   "execution_count": 8,
   "id": "71c73d86",
   "metadata": {},
   "outputs": [],
   "source": [
    "punctuation = set(punctuation) # speeds up comparison\n",
    "\n",
    "# can't remove hastags #needhashtags\n",
    "#string.replace(\"#\", \"\")\n",
    "\n",
    "#for testing\n",
    "#print(punctuation)\n",
    "\n",
    "#lol the stop words need to be cleaned from punctuation :/\n",
    "for i in range(len(sw)):\n",
    "    for char in sw[i]:\n",
    "        if char in punctuation:\n",
    "            #print (word)\n",
    "            sw[i] = sw[i].replace(char, '')\n",
    "\n",
    "#for testing           \n",
    "#print(sw)"
   ]
  },
  {
   "cell_type": "code",
   "execution_count": 9,
   "id": "b327033a",
   "metadata": {},
   "outputs": [],
   "source": [
    "# create your clean lyrics data here\n",
    "# Removing punctuations in string\n",
    "# lyricsCher = \"\"\n",
    "# lyricsRobyn = \"\"\n",
    "#temp = lyricsDictionary.copy().items()\n",
    "for key, value in lyricsDictionary.items():\n",
    "    for ele in value:\n",
    "        if ele in punctuation:\n",
    "            value = value.replace(ele, \"\")\n",
    "            lyricsDictionary[key] = value.casefold()\n",
    "        else:\n",
    "            lyricsDictionary[key] = value.casefold()\n",
    "            #print(value)\n",
    "\n",
    "def remove_stopwords(data):\n",
    "    output_array=[]\n",
    "    for sentence in data:\n",
    "        temp_list=[]\n",
    "        for word in sentence.split():\n",
    "            if word.lower() not in sw:\n",
    "                temp_list.append(word)\n",
    "        output_array.append(' '.join(temp_list))\n",
    "    return output_array   \n",
    "\n",
    "cleanLyricsDictionary = {}\n",
    "for key, value in lyricsDictionary.items():\n",
    "    for ele in value:\n",
    "        cleanLyricsDictionary[key] = list(filter(None, remove_stopwords(value.split())))#remove_stopwords(value.split())\n",
    "        \n",
    "#for testing\n",
    "#print(lyricsDictionary[('Again','Cher')])\n",
    "#print(cleanLyricsDictionary[('Again','Cher')])\n"
   ]
  },
  {
   "cell_type": "code",
   "execution_count": 10,
   "id": "99f690b2",
   "metadata": {},
   "outputs": [],
   "source": [
    "lyricsTokenizedRobyn = []\n",
    "for i in range(len(songTitlesRobyn)): \n",
    "    lyricsTokenizedRobyn.extend(cleanLyricsDictionary[songTitlesRobyn[i],'Robyn'])\n",
    "lyricsTokenizedCher = []\n",
    "for i in range(len(songTitlesCher)): \n",
    "    lyricsTokenizedCher.extend(cleanLyricsDictionary[songTitlesCher[i][1:-1],'Cher'])\n"
   ]
  },
  {
   "cell_type": "code",
   "execution_count": 11,
   "id": "34be2fcf",
   "metadata": {},
   "outputs": [],
   "source": [
    "uncleanDescriptionCher = descriptionCher.copy()\n",
    "uncleanDescriptionRobyn = descriptionRobyn.copy()\n",
    "\n",
    "for i in range(len(descriptionCher)): \n",
    "    for ele in descriptionCher[i]:\n",
    "        if ele in punctuation:\n",
    "            descriptionCher[i] = descriptionCher[i].replace(ele, \"\")\n",
    "    descriptionCher[i] = descriptionCher[i].casefold()\n",
    "            \n",
    "for i in range(len(descriptionRobyn)):\n",
    "    for ele in descriptionRobyn[i]:\n",
    "        if ele in punctuation:\n",
    "            descriptionRobyn[i] = descriptionRobyn[i].replace(ele, \"\")\n",
    "    descriptionRobyn[i] = descriptionRobyn[i].casefold()\n",
    "\n",
    "descriptionTokenizedCher = []\n",
    "for i in range(len(descriptionCher)): \n",
    "    descriptionTokenizedCher.extend(list(filter(None, remove_stopwords(descriptionCher[i].split()))))\n",
    "\n",
    "\n",
    "descriptionTokenizedRobyn = []\n",
    "for i in range(len(descriptionRobyn)): \n",
    "    descriptionTokenizedRobyn.extend(list(filter(None, remove_stopwords(descriptionRobyn[i].split()))))\n"
   ]
  },
  {
   "cell_type": "markdown",
   "id": "f2dd0179",
   "metadata": {},
   "source": [
    "## Basic Descriptive Statistics\n",
    "\n",
    "Call your `descriptive_stats` function on both your lyrics data and your twitter data and for both artists (four total calls). "
   ]
  },
  {
   "cell_type": "code",
   "execution_count": 12,
   "id": "f0bbedd9",
   "metadata": {},
   "outputs": [
    {
     "name": "stdout",
     "output_type": "stream",
     "text": [
      "The description stats for Cher's followers' twitter descriptions: \n",
      "\n",
      "There are 15604562 tokens in the data.\n",
      "There are 1517640 unique tokens in the data.\n",
      "There are 92659618 characters in the data.\n",
      "The lexical diversity is 0.995 in the data.\n",
      "[('love', 214576), ('im', 139098), ('life', 122980), ('music', 88177), ('de', 72974)]\n",
      "\n",
      "\n",
      "The description stats for Cher's lyrics: \n",
      "\n",
      "There are 34605 tokens in the data.\n",
      "There are 3682 unique tokens in the data.\n",
      "There are 166607 characters in the data.\n",
      "The lexical diversity is 0.981 in the data.\n",
      "[('love', 995), ('im', 515), ('know', 489), ('time', 320), ('baby', 318)]\n",
      "\n",
      "\n",
      "The description stats for Robyn's followers' twitter descriptions: \n",
      "\n",
      "There are 1490474 tokens in the data.\n",
      "There are 252708 unique tokens in the data.\n",
      "There are 9105295 characters in the data.\n",
      "The lexical diversity is 0.996 in the data.\n",
      "[('music', 15147), ('love', 11677), ('im', 9051), ('och', 7922), ('life', 7383)]\n",
      "\n",
      "\n",
      "The description stats for Robyn's lyrics: \n",
      "\n",
      "There are 14608 tokens in the data.\n",
      "There are 2139 unique tokens in the data.\n",
      "There are 71248 characters in the data.\n",
      "The lexical diversity is 0.975 in the data.\n",
      "[('know', 308), ('im', 299), ('love', 275), ('got', 251), ('like', 232)]\n",
      "\n",
      "\n"
     ]
    }
   ],
   "source": [
    "# calls to descriptive_stats here\n",
    "print(\"The description stats for Cher's followers' twitter descriptions: \\n\")\n",
    "descriptive_stats(descriptionTokenizedCher)\n",
    "print(\"\\n\")\n",
    "print(\"The description stats for Cher's lyrics: \\n\")\n",
    "descriptive_stats(lyricsTokenizedCher)\n",
    "print(\"\\n\")\n",
    "print(\"The description stats for Robyn's followers' twitter descriptions: \\n\")\n",
    "descriptive_stats(descriptionTokenizedRobyn)\n",
    "print(\"\\n\")\n",
    "print(\"The description stats for Robyn's lyrics: \\n\")\n",
    "descriptive_stats(lyricsTokenizedRobyn)\n",
    "print(\"\\n\")\n"
   ]
  },
  {
   "cell_type": "markdown",
   "id": "46294409",
   "metadata": {},
   "source": [
    "Q: How do you think the \"top 5 words\" would be different if we left stopwords in the data? \n",
    "\n",
    "A: The stopwords would have dominated the charts due to their high occurance and taken ranks 1 through 5.\n",
    "\n",
    "---\n",
    "\n",
    "Q: What were your prior beliefs about the lexical diversity between the artists? Does the difference (or lack thereof) in lexical diversity between the artists conform to your prior beliefs? \n",
    "\n",
    "A: It is very surprising that both artists have very little difference in lexical diversity. Perhaps the lexical diversity metric is sensitive to small differences. Much the same way a Homosapien and Chimpanzee share a high percentage of DNA but that makes a big difference?\n"
   ]
  },
  {
   "cell_type": "markdown",
   "id": "4d4e1ac1",
   "metadata": {},
   "source": [
    "\n",
    "## Specialty Statistics\n",
    "\n",
    "The descriptive statistics we have calculated are quite generic. You will now calculate a handful of statistics tailored to these data.\n",
    "\n",
    "1. Ten most common emojis by artist in the twitter descriptions.\n",
    "1. Ten most common hashtags by artist in the twitter descriptions.\n",
    "1. Five most common words in song titles by artist. \n",
    "1. For each artist, a histogram of song lengths (in terms of number of tokens) \n",
    "\n",
    "We can use the `emoji` library to help us identify emojis and you have been given a function to help you.\n"
   ]
  },
  {
   "cell_type": "code",
   "execution_count": 13,
   "id": "753a5a3e",
   "metadata": {},
   "outputs": [],
   "source": [
    "def is_emoji(s):\n",
    "    return(s in emoji.UNICODE_EMOJI['en'])\n",
    "\n",
    "assert(is_emoji(\"❤️\"))\n",
    "assert(not is_emoji(\":-)\"))"
   ]
  },
  {
   "cell_type": "markdown",
   "id": "986fc4c0",
   "metadata": {},
   "source": [
    "### Emojis 😁\n",
    "\n",
    "What are the ten most common emojis by artist in the twitter descriptions? \n"
   ]
  },
  {
   "cell_type": "code",
   "execution_count": 14,
   "id": "2b4a633f",
   "metadata": {},
   "outputs": [
    {
     "name": "stdout",
     "output_type": "stream",
     "text": [
      "[('❤', 79223), ('🌈', 47549), ('♥', 33978), ('🏳', 33412), ('✨', 29468), ('💙', 21379), ('🏻', 20930), ('🌊', 20223), ('✌', 16773), ('💜', 16550)]\n",
      "[('❤', 4783), ('🌈', 4685), ('🏳', 3528), ('♥', 3103), ('✨', 2223), ('🏻', 1495), ('✌', 1189), ('🏼', 1139), ('♀', 836), ('💙', 809)]\n"
     ]
    }
   ],
   "source": [
    "# Your code here\n",
    "\n",
    "def extract_emojis(list2):\n",
    "    emoji_list = []\n",
    "    list_real = []\n",
    "    for word in list2:\n",
    "        temp = re.findall(r'[^\\w\\s,]', word) #doesn't exactly find emojis since it capture weird non-english chars\n",
    "        emoji_list.extend(temp)\n",
    "    for s in emoji_list:\n",
    "        if (s in emoji.UNICODE_EMOJI['en']): \n",
    "            list_real.extend(s)\n",
    "    return list_real\n",
    "\n",
    "countsRobyn = Counter(extract_emojis(descriptionTokenizedCher))\n",
    "countsCher = Counter(extract_emojis(descriptionTokenizedRobyn))\n",
    "#countsRobyn = Counter(list(filter(None, extract_emojis(descriptionTokenizedCher))))\n",
    "#countsCher = Counter(list(filter(None, extract_emojis(descriptionTokenizedRobyn))))\n",
    "print(countsRobyn.most_common(10))\n",
    "print(countsCher.most_common(10))"
   ]
  },
  {
   "cell_type": "markdown",
   "id": "bab9b770",
   "metadata": {},
   "source": [
    "### Hashtags\n",
    "\n",
    "What are the ten most common hashtags by artist in the twitter descriptions? \n"
   ]
  },
  {
   "cell_type": "code",
   "execution_count": 15,
   "id": "07c396f1",
   "metadata": {},
   "outputs": [
    {
     "name": "stdout",
     "output_type": "stream",
     "text": [
      "The most common hashtags for Cher are:\n",
      "[('resist', 11657), ('blm', 10466), ('blacklivesmatter', 8154), ('theresistance', 3508), ('fbr', 3419), ('resistance', 3061), ('1', 2627), ('voteblue', 2304), ('lgbtq', 2074), ('music', 1602)]\n",
      "\n",
      "\n",
      "The most common hashtags for Robyn are:\n",
      "[('blacklivesmatter', 601), ('blm', 362), ('music', 306), ('1', 199), ('teamfollowback', 135), ('edm', 111), ('lgbtq', 89), ('resist', 86), ('travel', 73), ('art', 72)]\n"
     ]
    }
   ],
   "source": [
    "# Your code here\n",
    "\n",
    "#descriptionRobyn\n",
    "#descriptionCher\n",
    "tagsCher = []\n",
    "tagsRobyn = []\n",
    "#re.findall(r\"#(\\w+)\", s)\n",
    "for word in uncleanDescriptionCher:\n",
    "    tagsCher.extend(re.findall(r\"#(\\w+)\", word.casefold()))\n",
    "for word in uncleanDescriptionRobyn:\n",
    "    tagsRobyn.extend(re.findall(r\"#(\\w+)\", word.casefold()))\n",
    "    \n",
    "print(\"The most common hashtags for Cher are:\")    \n",
    "print(Counter(tagsCher).most_common(10))\n",
    "print(\"\\n\")\n",
    "print(\"The most common hashtags for Robyn are:\")\n",
    "\n",
    "print(Counter(tagsRobyn).most_common(10))"
   ]
  },
  {
   "cell_type": "markdown",
   "id": "d10f21d5",
   "metadata": {},
   "source": [
    "### Song Titles\n",
    "\n",
    "What are the five most common words in song titles by artist? The song titles should be on the first line of the lyrics pages, so if you have kept the raw file contents around, you will not need to re-read the data.\n"
   ]
  },
  {
   "cell_type": "code",
   "execution_count": 16,
   "id": "ceed237a",
   "metadata": {},
   "outputs": [],
   "source": [
    "stRobyn = songTitlesRobyn.copy()\n",
    "stCher = songTitlesCher.copy()\n",
    "for i in range(len(songTitlesCher)):\n",
    "    for ele in songTitlesCher[i]:\n",
    "        if ele in punctuation:\n",
    "            songTitlesCher[i] = songTitlesCher[i].replace(ele, \"\").casefold()\n",
    "        else:\n",
    "            songTitlesCher[i] = songTitlesCher[i].casefold()\n",
    "            #print(value)\n",
    "\n",
    "\n",
    "for i in range(len(songTitlesRobyn)):\n",
    "    for ele in songTitlesRobyn[i]:\n",
    "        if ele in punctuation:\n",
    "            songTitlesRobyn[i] = songTitlesRobyn[i].replace(ele, \"\").casefold()\n",
    "        else:\n",
    "            songTitlesRobyn[i] = songTitlesRobyn[i].casefold()"
   ]
  },
  {
   "cell_type": "code",
   "execution_count": 17,
   "id": "bb69b36b",
   "metadata": {},
   "outputs": [
    {
     "name": "stdout",
     "output_type": "stream",
     "text": [
      "[('love', 38), ('man', 12), ('song', 11), ('come', 7), ('one', 7)]\n",
      "[('love', 6), ('u', 4), ('thing', 3), ('girl', 3), ('tell', 3)]\n"
     ]
    }
   ],
   "source": [
    "     \n",
    "songTitlesTokenizedCher = []\n",
    "for song in songTitlesCher: \n",
    "    songTitlesTokenizedCher.extend(remove_stopwords(song.split()))\n",
    "    \n",
    "songTitlesTokenizedRobyn = []\n",
    "for song in songTitlesRobyn: \n",
    "    songTitlesTokenizedRobyn.extend(remove_stopwords(song.split()))\n",
    "    \n",
    "print( Counter(songTitlesTokenizedCher).most_common(6)[1:] )\n",
    "print( Counter(songTitlesTokenizedRobyn).most_common(6)[1:] )\n",
    "#songTitlesTokenizedCher\n"
   ]
  },
  {
   "cell_type": "markdown",
   "id": "5dd4fd71",
   "metadata": {},
   "source": [
    "### Song Lengths\n",
    "\n",
    "For each artist, a histogram of song lengths (in terms of number of tokens). If you put the song lengths in a data frame with an artist column, matplotlib will make the plotting quite easy. An example is given to help you out. \n"
   ]
  },
  {
   "cell_type": "code",
   "execution_count": 18,
   "id": "805a1e52",
   "metadata": {},
   "outputs": [
    {
     "data": {
      "text/plain": [
       "artist\n",
       "Artist 1    AxesSubplot(0.125,0.125;0.775x0.755)\n",
       "Artist 2    AxesSubplot(0.125,0.125;0.775x0.755)\n",
       "Name: length, dtype: object"
      ]
     },
     "execution_count": 18,
     "metadata": {},
     "output_type": "execute_result"
    },
    {
     "data": {
      "image/png": "[encoded data removed]",
      "text/plain": [
       "<Figure size 432x288 with 1 Axes>"
      ]
     },
     "metadata": {
      "needs_background": "light"
     },
     "output_type": "display_data"
    }
   ],
   "source": [
    "num_replicates = 1000\n",
    "\n",
    "df = pd.DataFrame({\n",
    "    \"artist\" : ['Artist 1'] * num_replicates + ['Artist 2']*num_replicates,\n",
    "    \"length\" : np.concatenate((np.random.poisson(125,num_replicates),np.random.poisson(150,num_replicates)))\n",
    "})\n",
    "\n",
    "df.groupby('artist')['length'].plot(kind=\"hist\",density=True,alpha=0.5,legend=True)\n"
   ]
  },
  {
   "cell_type": "markdown",
   "id": "8fde9ebb",
   "metadata": {},
   "source": [
    "Since the lyrics may be stored with carriage returns or tabs, it may be useful to have a function that can collapse whitespace, using regular expressions, and be used for splitting. \n",
    "\n",
    "Q: What does the regular expression `'\\s+'` match on? \n",
    "\n",
    "A: The regular expression matches on any combinacion and repetition of whitespace characters such as space, tab, carriage return, new line, vertical tab, form feed characterd.\n"
   ]
  },
  {
   "cell_type": "code",
   "execution_count": 19,
   "id": "f0e34516",
   "metadata": {},
   "outputs": [],
   "source": [
    "collapse_whitespace = re.compile(r'\\s+')\n",
    "\n",
    "def tokenize_lyrics(lyric) : \n",
    "    \"\"\"strip and split on whitespace\"\"\"\n",
    "    return([item.lower() for item in collapse_whitespace.split(lyric)])"
   ]
  },
  {
   "cell_type": "code",
   "execution_count": 20,
   "id": "2294c440",
   "metadata": {},
   "outputs": [],
   "source": [
    "# Your lyric length comparison chart here. \n",
    "\n",
    "\n",
    "lyricLengthCher = []\n",
    "lyricLengthRobyn = []\n",
    "for i in range(len(songTitlesRobyn)): \n",
    "    lyricLengthRobyn.append( len( (cleanLyricsDictionary[stRobyn[i],'Robyn']) ))\n",
    "                            \n",
    "for i in range(len(songTitlesCher)): \n",
    "    lyricLengthCher.append( len( (cleanLyricsDictionary[stCher[i][1:-1],'Cher']) ))"
   ]
  },
  {
   "cell_type": "code",
   "execution_count": 21,
   "id": "441e9e26",
   "metadata": {},
   "outputs": [
    {
     "data": {
      "text/plain": [
       "artist\n",
       "Cher     AxesSubplot(0.125,0.125;0.775x0.755)\n",
       "Robyn    AxesSubplot(0.125,0.125;0.775x0.755)\n",
       "Name: length, dtype: object"
      ]
     },
     "execution_count": 21,
     "metadata": {},
     "output_type": "execute_result"
    },
    {
     "data": {
      "image/png": "[encoded data removed]",
      "text/plain": [
       "<Figure size 432x288 with 1 Axes>"
      ]
     },
     "metadata": {
      "needs_background": "light"
     },
     "output_type": "display_data"
    }
   ],
   "source": [
    "df = pd.DataFrame({\n",
    "    \"artist\" : ['Cher'] * len(songTitlesCher) + ['Robyn']*len(songTitlesRobyn),\n",
    "    \"length\" : np.concatenate((np.array(lyricLengthCher), np.array(lyricLengthRobyn)))\n",
    "})\n",
    "\n",
    "df.groupby('artist')['length'].plot(kind=\"hist\",density=True,alpha=0.5,legend=True)"
   ]
  }
 ],
 "metadata": {
  "kernelspec": {
   "display_name": "Python 3",
   "language": "python",
   "name": "python3"
  },
  "language_info": {
   "codemirror_mode": {
    "name": "ipython",
    "version": 3
   },
   "file_extension": ".py",
   "mimetype": "text/x-python",
   "name": "python",
   "nbconvert_exporter": "python",
   "pygments_lexer": "ipython3",
   "version": "3.8.5"
  }
 },
 "nbformat": 4,
 "nbformat_minor": 5
}
