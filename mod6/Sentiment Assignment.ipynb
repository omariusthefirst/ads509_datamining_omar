{
 "cells": [
  {
   "cell_type": "markdown",
   "id": "7f79baf9",
   "metadata": {},
   "source": [
    "# ADS 509 Sentiment Assignment\n",
    "\n",
    "This notebook holds the Sentiment Assignment for Module 6 in ADS 509, Applied Text Mining. Work through this notebook, writing code and answering questions where required. \n",
    "\n",
    "In a previous assignment you put together Twitter data and lyrics data on two artists. In this assignment we apply sentiment analysis to those data sets. If, for some reason, you did not complete that previous assignment, data to use for this assignment can be found in the assignment materials section of Blackboard. \n"
   ]
  },
  {
   "cell_type": "markdown",
   "id": "aae8e2e1",
   "metadata": {},
   "source": [
    "## General Assignment Instructions\n",
    "\n",
    "These instructions are included in every assignment, to remind you of the coding standards for the class. Feel free to delete this cell after reading it. \n",
    "\n",
    "One sign of mature code is conforming to a style guide. We recommend the [Google Python Style Guide](https://google.github.io/styleguide/pyguide.html). If you use a different style guide, please include a cell with a link. \n",
    "\n",
    "Your code should be relatively easy-to-read, sensibly commented, and clean. Writing code is a messy process, so please be sure to edit your final submission. Remove any cells that are not needed or parts of cells that contain unnecessary code. Remove inessential `import` statements and make sure that all such statements are moved into the designated cell. \n",
    "\n",
    "Make use of non-code cells for written commentary. These cells should be grammatical and clearly written. In some of these cells you will have questions to answer. The questions will be marked by a \"Q:\" and will have a corresponding \"A:\" spot for you. *Make sure to answer every question marked with a `Q:` for full credit.* \n"
   ]
  },
  {
   "cell_type": "code",
   "execution_count": 1,
   "id": "e2d096b7",
   "metadata": {},
   "outputs": [],
   "source": [
    "import os\n",
    "import re\n",
    "import emoji\n",
    "import pandas as pd\n",
    "import numpy as np\n",
    "\n",
    "from collections import Counter, defaultdict\n",
    "from string import punctuation\n",
    "\n",
    "from nltk.corpus import stopwords\n",
    "\n",
    "sw = stopwords.words(\"english\")"
   ]
  },
  {
   "cell_type": "code",
   "execution_count": 2,
   "id": "6b555ab2",
   "metadata": {},
   "outputs": [],
   "source": [
    "# Add any additional import statements you need here\n",
    "\n",
    "import seaborn as sns\n",
    "import emoji\n",
    "import regex\n",
    "from collections import Counter\n"
   ]
  },
  {
   "cell_type": "code",
   "execution_count": 3,
   "id": "923b5a86",
   "metadata": {},
   "outputs": [],
   "source": [
    "# change `data_location` to the location of the folder on your machine.\n",
    "data_location = \"/users/chandler/dropbox/teaching/repos/ads-tm-api-scrape/\"\n",
    "\n",
    "# These subfolders should still work if you correctly stored the \n",
    "# data from the Module 1 assignment\n",
    "twitter_folder = \"twitter/\"\n",
    "lyrics_folder = \"lyrics/\"\n",
    "\n",
    "positive_words_file = \"positive-words.txt\"\n",
    "negative_words_file = \"negative-words.txt\"\n",
    "tidy_text_file = \"tidytext_sentiments.txt\""
   ]
  },
  {
   "cell_type": "markdown",
   "id": "9d3bf93e",
   "metadata": {},
   "source": [
    "## Data Input\n",
    "\n",
    "Now read in each of the corpora. For the lyrics data, it may be convenient to store the entire contents of the file to make it easier to inspect the titles individually, as you'll do in the last part of the assignment. In the solution, I stored the lyrics data in a dictionary with two dimensions of keys: artist and song. The value was the file contents. A Pandas data frame would work equally well. \n",
    "\n",
    "For the Twitter data, we only need the description field for this assignment. Feel free all the descriptions read it into a data structure. In the solution, I stored the descriptions as a dictionary of lists, with the key being the artist. \n",
    "\n",
    "\n"
   ]
  },
  {
   "cell_type": "code",
   "execution_count": 4,
   "id": "37d70801",
   "metadata": {},
   "outputs": [],
   "source": [
    "# Read in the lyrics data\n",
    "# Feel free to use the below cells as an example or read in the data in a way you prefer\n",
    "\n",
    "data_location = \"C:/Users/elfek/datamining/mod6/\" # change to your location if it is not in the same directory as your notebook\n",
    "artist1 = 'cher'\n",
    "artist2 = 'robyn'\n",
    "artist_files = {artist1:'cher_followers_data.txt',\n",
    "            artist2:'robynkonichiwa_followers_data.txt'}\n",
    "\n",
    "#reading the file\n",
    "lyrics1 = []  \n",
    "os.chdir(r\"C:\\Users\\elfek\\datamining\\lyrics\")\n",
    "for filename in os.listdir(artist1):\n",
    "    with open(os.path.join(artist1, filename), 'r', encoding=\"utf-8\") as f:\n",
    "        songLyrics = f.read()\n",
    "        lyrics1.append(songLyrics.split('\\n', 1)[1:])\n",
    "        song = str(songLyrics.split('\\n', 1)[1:])\n",
    "        songTitle = songLyrics.split('\\n', 1)[0]\n",
    "        # if (re.search(\"tjaffs\", song)):\n",
    "        #     print(songTitle)\n",
    "\n",
    "lyrics2 = []        \n",
    "os.chdir(r\"C:\\Users\\elfek\\datamining\\lyrics\")\n",
    "for filename in os.listdir(artist2):\n",
    "    with open(os.path.join(artist2, filename), 'r', encoding=\"utf-8\") as f:\n",
    "        songLyrics = f.read()\n",
    "        song = str(songLyrics.split('\\n', 1)[1:])\n",
    "        lyrics2.append(songLyrics.split('\\n', 1)[1:]) #extend\n",
    "        songTitle = songLyrics.split('\\n', 1)[0]\n",
    "        # if (re.search(\"transistors\", song)):\n",
    "        #     print(songTitle)\n",
    "        \n",
    "\n",
    "lyrics_data =  pd.DataFrame(lyrics1)\n",
    "lyrics_data['artist'] = artist1\n",
    "lyrics_data_2 =  pd.DataFrame(lyrics2)\n",
    "lyrics_data_2['artist'] = artist2\n",
    "\n",
    "lyrics_data = pd.concat([\n",
    "    lyrics_data,lyrics_data_2])\n",
    "    \n",
    "del(lyrics_data_2)\n",
    "\n",
    "lyrics_data.rename(columns={0: \"lyrics\"}, inplace = True)\n"
   ]
  },
  {
   "cell_type": "code",
   "execution_count": 5,
   "id": "debcac5a",
   "metadata": {},
   "outputs": [],
   "source": [
    "# Read in the twitter data\n",
    "twitter_data = pd.read_csv(data_location + twitter_folder + artist_files[artist1],\n",
    "                        sep=\"\\t\",\n",
    "                        quoting=3)\n",
    "\n",
    "twitter_data['artist'] = artist1\n",
    "twitter_data_2 = pd.read_csv(data_location + twitter_folder + artist_files[artist2],\n",
    "                            sep=\"\\t\",\n",
    "                            quoting=3)\n",
    "twitter_data_2['artist'] = artist2\n",
    "\n",
    "twitter_data = pd.concat([\n",
    "twitter_data,twitter_data_2])\n",
    "\n",
    "del(twitter_data_2)"
   ]
  },
  {
   "cell_type": "code",
   "execution_count": 6,
   "id": "af9e7a4b",
   "metadata": {},
   "outputs": [
    {
     "data": {
      "text/html": [
       "<div>\n",
       "<style scoped>\n",
       "    .dataframe tbody tr th:only-of-type {\n",
       "        vertical-align: middle;\n",
       "    }\n",
       "\n",
       "    .dataframe tbody tr th {\n",
       "        vertical-align: top;\n",
       "    }\n",
       "\n",
       "    .dataframe thead th {\n",
       "        text-align: right;\n",
       "    }\n",
       "</style>\n",
       "<table border=\"1\" class=\"dataframe\">\n",
       "  <thead>\n",
       "    <tr style=\"text-align: right;\">\n",
       "      <th></th>\n",
       "      <th>word</th>\n",
       "      <th>sentiment</th>\n",
       "    </tr>\n",
       "  </thead>\n",
       "  <tbody>\n",
       "    <tr>\n",
       "      <th>11963</th>\n",
       "      <td>unfunded</td>\n",
       "      <td>-1</td>\n",
       "    </tr>\n",
       "  </tbody>\n",
       "</table>\n",
       "</div>"
      ],
      "text/plain": [
       "           word  sentiment\n",
       "11963  unfunded         -1"
      ]
     },
     "execution_count": 6,
     "metadata": {},
     "output_type": "execute_result"
    }
   ],
   "source": [
    "# Read in the positive and negative words and the\n",
    "# tidytext sentiment. Store these so that the positive\n",
    "# words are associated with a score of +1 and negative words\n",
    "# are associated with a score of -1. You can use a dataframe or a \n",
    "# dictionary for this.\n",
    "\n",
    "f=data_location + tidy_text_file\n",
    "df = pd.read_csv(f,sep='\\t')\n",
    "df.drop(columns = 'lexicon', inplace = True)\n",
    "df.replace('positive', 1, inplace=True)\n",
    "df.replace('negative', -1, inplace=True)\n",
    "df.sample()"
   ]
  },
  {
   "cell_type": "code",
   "execution_count": 7,
   "id": "032e649b",
   "metadata": {},
   "outputs": [],
   "source": [
    "negative = df.loc[df['sentiment'] == -1].drop( columns = 'sentiment')['word'].values.tolist()\n",
    "positive = df.loc[df['sentiment'] == 1].drop( columns = 'sentiment')['word'].values.tolist()\n",
    "\n",
    "\n",
    "#negative = df.loc[df['sentiment'] == -1].drop( columns = 'sentiment').values.tolist()\n",
    "#positive = df.loc[df['sentiment'] == 1].drop( columns = 'sentiment').values.tolist()\n",
    "# positive"
   ]
  },
  {
   "cell_type": "markdown",
   "id": "6a5f3b12",
   "metadata": {},
   "source": [
    "## Sentiment Analysis on Songs\n",
    "\n",
    "In this section, score the sentiment for all the songs for both artists in your data set. Score the sentiment by manually calculating the sentiment using the combined lexicons provided in this repository. \n",
    "\n",
    "After you have calculated these sentiments, answer the questions at the end of this section.\n"
   ]
  },
  {
   "cell_type": "code",
   "execution_count": 8,
   "id": "c835cfc4",
   "metadata": {},
   "outputs": [
    {
     "data": {
      "text/html": [
       "<div>\n",
       "<style scoped>\n",
       "    .dataframe tbody tr th:only-of-type {\n",
       "        vertical-align: middle;\n",
       "    }\n",
       "\n",
       "    .dataframe tbody tr th {\n",
       "        vertical-align: top;\n",
       "    }\n",
       "\n",
       "    .dataframe thead th {\n",
       "        text-align: right;\n",
       "    }\n",
       "</style>\n",
       "<table border=\"1\" class=\"dataframe\">\n",
       "  <thead>\n",
       "    <tr style=\"text-align: right;\">\n",
       "      <th></th>\n",
       "      <th>lyrics</th>\n",
       "      <th>artist</th>\n",
       "      <th>score</th>\n",
       "    </tr>\n",
       "  </thead>\n",
       "  <tbody>\n",
       "    <tr>\n",
       "      <th>113</th>\n",
       "      <td>\\n\\n\\nThese clouds aren't going nowhere, darli...</td>\n",
       "      <td>cher</td>\n",
       "      <td>6</td>\n",
       "    </tr>\n",
       "  </tbody>\n",
       "</table>\n",
       "</div>"
      ],
      "text/plain": [
       "                                                lyrics artist  score\n",
       "113  \\n\\n\\nThese clouds aren't going nowhere, darli...   cher      6"
      ]
     },
     "execution_count": 8,
     "metadata": {},
     "output_type": "execute_result"
    }
   ],
   "source": [
    "# your code here\n",
    "lyrics_data\n",
    "lyrics_data['score'] = pd.Series(dtype='int')\n",
    "temp_score= []\n",
    "i = 0\n",
    "for index, row in lyrics_data.iterrows():\n",
    "    score = 0\n",
    "    for word in row[0].split():\n",
    "        #print(word)\n",
    "        if word in negative:\n",
    "           # print(\"The word is not in the list!\")\n",
    "            score = score - 1\n",
    "        elif word in positive:\n",
    "           # print(\"The word is in the list!\")\n",
    "            score = score + 1\n",
    "    #print(score)\n",
    "    temp_score.append(score)\n",
    "lyrics_data['score'] =temp_score\n",
    "lyrics_data.sample()\n"
   ]
  },
  {
   "cell_type": "code",
   "execution_count": 9,
   "id": "664f8d8f",
   "metadata": {},
   "outputs": [
    {
     "data": {
      "text/plain": [
       "(4.079113924050633, 5.663461538461538)"
      ]
     },
     "execution_count": 9,
     "metadata": {},
     "output_type": "execute_result"
    }
   ],
   "source": [
    "cher_avg_score = lyrics_data.loc[lyrics_data['artist'] == 'cher']['score'].mean()\n",
    "robyn_avg_score = lyrics_data.loc[lyrics_data['artist'] == 'robyn']['score'].mean()\n",
    "cher_min_score = lyrics_data.loc[lyrics_data['artist'] == 'cher']['score'].min()\n",
    "robyn_min_score = lyrics_data.loc[lyrics_data['artist'] == 'robyn']['score'].min()\n",
    "cher_max_score = lyrics_data.loc[lyrics_data['artist'] == 'cher']['score'].max()\n",
    "robyn_max_score = lyrics_data.loc[lyrics_data['artist'] == 'robyn']['score'].max()\n",
    "cher_avg_score, robyn_avg_score"
   ]
  },
  {
   "cell_type": "code",
   "execution_count": 10,
   "id": "15cf46a3",
   "metadata": {},
   "outputs": [
    {
     "data": {
      "text/plain": [
       "(-42, -94, 50, 85)"
      ]
     },
     "execution_count": 10,
     "metadata": {},
     "output_type": "execute_result"
    }
   ],
   "source": [
    "cher_min_score, robyn_min_score, cher_max_score, robyn_max_score"
   ]
  },
  {
   "cell_type": "code",
   "execution_count": 11,
   "id": "ba86adfb",
   "metadata": {},
   "outputs": [
    {
     "data": {
      "text/plain": [
       "(                                               lyrics artist  score\n",
       " 16  \\n\\n\\nBang bang you shot me down\\nBang bang I ...   cher    -42,\n",
       "                                                 lyrics artist  score\n",
       " 155  \\n\\n\\nHere, here in this world\\nWhere do we go...   cher     50)"
      ]
     },
     "execution_count": 11,
     "metadata": {},
     "output_type": "execute_result"
    }
   ],
   "source": [
    "lyrics_data.loc[lyrics_data['score'] == cher_min_score], lyrics_data.loc[lyrics_data['score'] == cher_max_score]"
   ]
  },
  {
   "cell_type": "code",
   "execution_count": 12,
   "id": "1d37e781",
   "metadata": {},
   "outputs": [
    {
     "data": {
      "text/plain": [
       "(                                               lyrics artist  score\n",
       " 26  \\n\\n\\nMy drinking is killing me\\nMy drinking i...  robyn    -94\n",
       " 27  \\n\\n\\nMy drinking is killing me\\nMy drinking i...  robyn    -94,\n",
       "                                                lyrics artist  score\n",
       " 64  \\n\\n\\nFree\\nLove is free, baby\\nFree\\nLove is ...  robyn     85)"
      ]
     },
     "execution_count": 12,
     "metadata": {},
     "output_type": "execute_result"
    }
   ],
   "source": [
    "lyrics_data.loc[lyrics_data['score'] == robyn_min_score], lyrics_data.loc[lyrics_data['score'] == robyn_max_score] "
   ]
  },
  {
   "cell_type": "markdown",
   "id": "1f8334f4",
   "metadata": {},
   "source": [
    "### Questions\n",
    "\n",
    "Q: Overall, which artist has the higher average sentiment per song? \n",
    "\n",
    "A: Robyn has avg higher sentiment per song.\n",
    "\n",
    "---\n",
    "\n",
    "Q: For your first artist, what songs have the highest and lowest sentiments? Print those songs to the screen.\n",
    "\n",
    "A: For Cher, \"Bang bang you shot me down\" has the lowest sentiments and \"Here, here in this world\" has the highest sentiments.\n",
    "\n",
    "---\n",
    "\n",
    "Q: For your second artist, what songs have the highest and lowest sentiments? Print those songs to the screen.\n",
    "\n",
    "A: For Robyn, \"My Drinking is killing me\" has the lowest sentiments and \"Love is free, baby\" has the highest sentiments.\n",
    "\n",
    "---\n",
    "\n",
    "Q: Plot the distributions of the sentiment scores for both artists. You can use `seaborn` to plot densities or plot histograms in matplotlib.\n",
    "\n",
    "\n"
   ]
  },
  {
   "cell_type": "markdown",
   "id": "b3fe644d",
   "metadata": {},
   "source": [
    "## Sentiment Analysis on Twitter Descriptions\n",
    "\n",
    "In this section, define two sets of emojis you designate as positive and negative. Make sure to have at least 10 emojis per set. You can learn about the most popular emojis on Twitter at [the emojitracker](https://emojitracker.com/). \n",
    "\n",
    "Associate your positive emojis with a score of +1, negative with -1. Score the average sentiment of your two artists based on the Twitter descriptions of their followers. The average sentiment can just be the total score divided by number of followers. "
   ]
  },
  {
   "cell_type": "code",
   "execution_count": 13,
   "id": "d9c5cb2f",
   "metadata": {},
   "outputs": [],
   "source": [
    "twitter_data.drop(columns = ['screen_name', 'name', 'id', 'location','followers_count', 'friends_count' ], inplace = True)\n"
   ]
  },
  {
   "cell_type": "code",
   "execution_count": 14,
   "id": "d365a3e6",
   "metadata": {},
   "outputs": [
    {
     "data": {
      "text/html": [
       "<div>\n",
       "<style scoped>\n",
       "    .dataframe tbody tr th:only-of-type {\n",
       "        vertical-align: middle;\n",
       "    }\n",
       "\n",
       "    .dataframe tbody tr th {\n",
       "        vertical-align: top;\n",
       "    }\n",
       "\n",
       "    .dataframe thead th {\n",
       "        text-align: right;\n",
       "    }\n",
       "</style>\n",
       "<table border=\"1\" class=\"dataframe\">\n",
       "  <thead>\n",
       "    <tr style=\"text-align: right;\">\n",
       "      <th></th>\n",
       "      <th>description</th>\n",
       "      <th>artist</th>\n",
       "    </tr>\n",
       "  </thead>\n",
       "  <tbody>\n",
       "    <tr>\n",
       "      <th>342163</th>\n",
       "      <td>olha a bio biuô pirulitô</td>\n",
       "      <td>cher</td>\n",
       "    </tr>\n",
       "    <tr>\n",
       "      <th>3277761</th>\n",
       "      <td>NaN</td>\n",
       "      <td>cher</td>\n",
       "    </tr>\n",
       "    <tr>\n",
       "      <th>3502551</th>\n",
       "      <td>NaN</td>\n",
       "      <td>cher</td>\n",
       "    </tr>\n",
       "    <tr>\n",
       "      <th>3620447</th>\n",
       "      <td>NaN</td>\n",
       "      <td>cher</td>\n",
       "    </tr>\n",
       "    <tr>\n",
       "      <th>2627230</th>\n",
       "      <td>🍼🍼</td>\n",
       "      <td>cher</td>\n",
       "    </tr>\n",
       "    <tr>\n",
       "      <th>3589372</th>\n",
       "      <td>Bookworm, nerd, and all around loser at life</td>\n",
       "      <td>cher</td>\n",
       "    </tr>\n",
       "    <tr>\n",
       "      <th>1166010</th>\n",
       "      <td>NaN</td>\n",
       "      <td>cher</td>\n",
       "    </tr>\n",
       "    <tr>\n",
       "      <th>412995</th>\n",
       "      <td>NaN</td>\n",
       "      <td>cher</td>\n",
       "    </tr>\n",
       "    <tr>\n",
       "      <th>1633800</th>\n",
       "      <td>Entrepreneur || Founder @ Seers Projects (Pty)...</td>\n",
       "      <td>cher</td>\n",
       "    </tr>\n",
       "    <tr>\n",
       "      <th>3086165</th>\n",
       "      <td>NaN</td>\n",
       "      <td>cher</td>\n",
       "    </tr>\n",
       "  </tbody>\n",
       "</table>\n",
       "</div>"
      ],
      "text/plain": [
       "                                               description artist\n",
       "342163                            olha a bio biuô pirulitô   cher\n",
       "3277761                                                NaN   cher\n",
       "3502551                                                NaN   cher\n",
       "3620447                                                NaN   cher\n",
       "2627230                                                 🍼🍼   cher\n",
       "3589372       Bookworm, nerd, and all around loser at life   cher\n",
       "1166010                                                NaN   cher\n",
       "412995                                                 NaN   cher\n",
       "1633800  Entrepreneur || Founder @ Seers Projects (Pty)...   cher\n",
       "3086165                                                NaN   cher"
      ]
     },
     "execution_count": 14,
     "metadata": {},
     "output_type": "execute_result"
    }
   ],
   "source": [
    "twitter_data.sample(10)"
   ]
  },
  {
   "cell_type": "code",
   "execution_count": 15,
   "id": "ab19df25",
   "metadata": {},
   "outputs": [
    {
     "data": {
      "text/plain": [
       "251641     If today is the first day of the rest of my li...\n",
       "75763      Liberal ° Políticamente incorrecto 🙃 Máster en...\n",
       "454241                                    WAKANDA FOREVER...\n",
       "2355164                                            fuck cops\n",
       "2498457    hello I'm Acacia Clark...i'm real! :) I became...\n",
       "3753117                                  The Voice of Reason\n",
       "3896706    Be who you are and say what you feel because t...\n",
       "2301218                              we’re all battling fear\n",
       "266359                    Don't Blame Me, I Voted for Trump!\n",
       "2006963    INTJ ... Aries ... Quins ... just getting on w...\n",
       "Name: description, dtype: object"
      ]
     },
     "execution_count": 15,
     "metadata": {},
     "output_type": "execute_result"
    }
   ],
   "source": [
    "positive_emoticons = []\n",
    "temp_positive_emoticons = [\":kissing_heart:\", \":smile:\", \":blush:\", \":grin:\", \":kissing_closed_eyes:\", \":heart_eyes:\", \"😊\", \":smiling_imp:\", \":imp:\", \":yum:\"]\n",
    "for emoticon in temp_positive_emoticons:\n",
    "    positive_emoticons.append(emoji.emojize(emoticon,language= 'alias'))\n",
    "# print(positive_emoticons)\n",
    "negative_emoticons = []\n",
    "temp_negative_emoticons = [\":angry:\", \":sob:\", \":cry:\", \":fearful:\", \":tired_face:\", \":disappointed:\", \":confounded:\", \":frowning:\", \":grimacing:\", \":worried:\"]\n",
    "for emoticon in temp_negative_emoticons:\n",
    "    negative_emoticons.append(emoji.emojize(emoticon, language = 'alias'))\n",
    "# print(negative_emoticons)\n",
    "twitter_data = twitter_data.dropna()\n",
    "twitter_data['description'].sample(10)"
   ]
  },
  {
   "cell_type": "code",
   "execution_count": 44,
   "id": "1a5c1d25",
   "metadata": {},
   "outputs": [
    {
     "data": {
      "text/html": [
       "<div>\n",
       "<style scoped>\n",
       "    .dataframe tbody tr th:only-of-type {\n",
       "        vertical-align: middle;\n",
       "    }\n",
       "\n",
       "    .dataframe tbody tr th {\n",
       "        vertical-align: top;\n",
       "    }\n",
       "\n",
       "    .dataframe thead th {\n",
       "        text-align: right;\n",
       "    }\n",
       "</style>\n",
       "<table border=\"1\" class=\"dataframe\">\n",
       "  <thead>\n",
       "    <tr style=\"text-align: right;\">\n",
       "      <th></th>\n",
       "      <th>description</th>\n",
       "      <th>artist</th>\n",
       "      <th>score</th>\n",
       "      <th>sentiment_emojis</th>\n",
       "    </tr>\n",
       "  </thead>\n",
       "  <tbody>\n",
       "    <tr>\n",
       "      <th>2014720</th>\n",
       "      <td>Leaning in. Digital marketing strategist. Writ...</td>\n",
       "      <td>cher</td>\n",
       "      <td>0</td>\n",
       "      <td></td>\n",
       "    </tr>\n",
       "  </tbody>\n",
       "</table>\n",
       "</div>"
      ],
      "text/plain": [
       "                                               description artist  score  \\\n",
       "2014720  Leaning in. Digital marketing strategist. Writ...   cher      0   \n",
       "\n",
       "        sentiment_emojis  \n",
       "2014720                   "
      ]
     },
     "execution_count": 44,
     "metadata": {},
     "output_type": "execute_result"
    }
   ],
   "source": [
    "# your code here\n",
    "\n",
    "def extract_emojis(s):\n",
    "  return ' '.join(c for c in s if c in (positive_emoticons + negative_emoticons))\n",
    "\n",
    "\n",
    "# def extract_emojis(s):\n",
    "#   return ' '.join(c for c in s if c in emoji.UNICODE_EMOJI['en'])\n",
    "\n",
    "def split_count(text):\n",
    "\n",
    "    emoji_list = []\n",
    "    data = regex.findall(r'\\X', text)\n",
    "    for word in data:\n",
    "        if any(char in emoji.UNICODE_EMOJI['en'] for char in word):\n",
    "            emoji_list.append(word)\n",
    "        emoji_list.append()\n",
    "    \n",
    "    return emoji_list\n",
    "\n",
    "# It's handy to have a full set of emojis\n",
    "all_language_emojis = set()\n",
    "\n",
    "for country in emoji.UNICODE_EMOJI : \n",
    "    for em in emoji.UNICODE_EMOJI[country] : \n",
    "        all_language_emojis.add(em)\n",
    "        \n",
    "def is_emoji(s):\n",
    "    return(s in all_language_emojis)\n",
    "    \n",
    "def contains_emoji(s):\n",
    "    s = str(s)\n",
    "    emojis = [ch for ch in s if is_emoji(ch)]\n",
    "    return(len(emojis) > 0)\n",
    "\n",
    "#print(emoji.emojize(\":zipper-mouth_face:\"))\n",
    "\n",
    "temp_score= []\n",
    "temp_emoji= []\n",
    "\n",
    "for row in twitter_data['description']:\n",
    "    score = 0\n",
    "    #print(row)\n",
    "    emo = extract_emojis(row)\n",
    "    temp_emoji.append(emo)\n",
    "    # print(emo)\n",
    "    if emo != '':\n",
    "        for item in emo:\n",
    "            # print(item)\n",
    "            if item in negative_emoticons:\n",
    "                # print(score)\n",
    "                score = score - 1\n",
    "            elif item in positive_emoticons:\n",
    "                # print(score)\n",
    "                score = score + 1\n",
    "            #print(score)\n",
    "            #print(emoji.demojize(item))\n",
    "        temp_score.append(score)\n",
    "    else:\n",
    "        temp_score.append(0)\n",
    "        \n",
    "twitter_data['score'] = temp_score\n",
    "twitter_data['sentiment_emojis'] = temp_emoji\n",
    "twitter_data.sample()"
   ]
  },
  {
   "cell_type": "code",
   "execution_count": 45,
   "id": "fc14ce3a",
   "metadata": {},
   "outputs": [
    {
     "data": {
      "text/html": [
       "<div>\n",
       "<style scoped>\n",
       "    .dataframe tbody tr th:only-of-type {\n",
       "        vertical-align: middle;\n",
       "    }\n",
       "\n",
       "    .dataframe tbody tr th {\n",
       "        vertical-align: top;\n",
       "    }\n",
       "\n",
       "    .dataframe thead th {\n",
       "        text-align: right;\n",
       "    }\n",
       "</style>\n",
       "<table border=\"1\" class=\"dataframe\">\n",
       "  <thead>\n",
       "    <tr style=\"text-align: right;\">\n",
       "      <th></th>\n",
       "      <th>description</th>\n",
       "      <th>artist</th>\n",
       "      <th>score</th>\n",
       "      <th>sentiment_emojis</th>\n",
       "    </tr>\n",
       "  </thead>\n",
       "  <tbody>\n",
       "    <tr>\n",
       "      <th>1030303</th>\n",
       "      <td>*RESIST* I positively DESPISE chump and all of...</td>\n",
       "      <td>cher</td>\n",
       "      <td>1</td>\n",
       "      <td>😊</td>\n",
       "    </tr>\n",
       "    <tr>\n",
       "      <th>1274992</th>\n",
       "      <td>DJ👣Atheist ⚛️ Model 🌍Public 🇺🇸Figure ☔Seattle ...</td>\n",
       "      <td>cher</td>\n",
       "      <td>1</td>\n",
       "      <td>😈</td>\n",
       "    </tr>\n",
       "    <tr>\n",
       "      <th>171065</th>\n",
       "      <td>Entrepreneur in 🏴󠁧󠁢󠁳󠁣󠁴󠁿 the prints are availab...</td>\n",
       "      <td>cher</td>\n",
       "      <td>1</td>\n",
       "      <td>😘</td>\n",
       "    </tr>\n",
       "    <tr>\n",
       "      <th>1326040</th>\n",
       "      <td>❤️😍Gleek✌️💗 🎶🎤Arianator Boy🎧💖 😎Psicólogo 👀</td>\n",
       "      <td>cher</td>\n",
       "      <td>1</td>\n",
       "      <td>😍</td>\n",
       "    </tr>\n",
       "    <tr>\n",
       "      <th>2351272</th>\n",
       "      <td>i dont get mad, I get even ✌🏻️😊</td>\n",
       "      <td>cher</td>\n",
       "      <td>1</td>\n",
       "      <td>😊</td>\n",
       "    </tr>\n",
       "    <tr>\n",
       "      <th>1095302</th>\n",
       "      <td>Ayee yall😍 I'm a very sweet person, I'm fun an...</td>\n",
       "      <td>cher</td>\n",
       "      <td>2</td>\n",
       "      <td>😍 😍</td>\n",
       "    </tr>\n",
       "    <tr>\n",
       "      <th>14464</th>\n",
       "      <td>Cashtag for @cashapp $dsb1p Spicy humor, fun, ...</td>\n",
       "      <td>robyn</td>\n",
       "      <td>1</td>\n",
       "      <td>😋</td>\n",
       "    </tr>\n",
       "    <tr>\n",
       "      <th>1130150</th>\n",
       "      <td>Liberal, (over) thinker, traveler who loves te...</td>\n",
       "      <td>cher</td>\n",
       "      <td>1</td>\n",
       "      <td>😊</td>\n",
       "    </tr>\n",
       "    <tr>\n",
       "      <th>1230270</th>\n",
       "      <td>😊am crushing on maself❤TYLGFML</td>\n",
       "      <td>cher</td>\n",
       "      <td>1</td>\n",
       "      <td>😊</td>\n",
       "    </tr>\n",
       "    <tr>\n",
       "      <th>3895199</th>\n",
       "      <td>Protección civil, gestión integral del riesgo,...</td>\n",
       "      <td>cher</td>\n",
       "      <td>1</td>\n",
       "      <td>😁</td>\n",
       "    </tr>\n",
       "  </tbody>\n",
       "</table>\n",
       "</div>"
      ],
      "text/plain": [
       "                                               description artist  score  \\\n",
       "1030303  *RESIST* I positively DESPISE chump and all of...   cher      1   \n",
       "1274992  DJ👣Atheist ⚛️ Model 🌍Public 🇺🇸Figure ☔Seattle ...   cher      1   \n",
       "171065   Entrepreneur in 🏴󠁧󠁢󠁳󠁣󠁴󠁿 the prints are availab...   cher      1   \n",
       "1326040         ❤️😍Gleek✌️💗 🎶🎤Arianator Boy🎧💖 😎Psicólogo 👀   cher      1   \n",
       "2351272                    i dont get mad, I get even ✌🏻️😊   cher      1   \n",
       "1095302  Ayee yall😍 I'm a very sweet person, I'm fun an...   cher      2   \n",
       "14464    Cashtag for @cashapp $dsb1p Spicy humor, fun, ...  robyn      1   \n",
       "1130150  Liberal, (over) thinker, traveler who loves te...   cher      1   \n",
       "1230270                     😊am crushing on maself❤TYLGFML   cher      1   \n",
       "3895199  Protección civil, gestión integral del riesgo,...   cher      1   \n",
       "\n",
       "        sentiment_emojis  \n",
       "1030303                😊  \n",
       "1274992                😈  \n",
       "171065                 😘  \n",
       "1326040                😍  \n",
       "2351272                😊  \n",
       "1095302              😍 😍  \n",
       "14464                  😋  \n",
       "1130150                😊  \n",
       "1230270                😊  \n",
       "3895199                😁  "
      ]
     },
     "execution_count": 45,
     "metadata": {},
     "output_type": "execute_result"
    }
   ],
   "source": [
    "twitter_data.loc[twitter_data['score'] != 0 ].sample(10)"
   ]
  },
  {
   "cell_type": "code",
   "execution_count": 46,
   "id": "28a171c5",
   "metadata": {},
   "outputs": [
    {
     "data": {
      "text/plain": [
       "(37, -16, 19, -6)"
      ]
     },
     "execution_count": 46,
     "metadata": {},
     "output_type": "execute_result"
    }
   ],
   "source": [
    "twitter_data.loc[twitter_data['artist'] == 'cher']['score'].max(), twitter_data.loc[twitter_data['artist'] == 'cher']['score'].min(),twitter_data.loc[twitter_data['artist'] == 'robyn']['score'].max(), twitter_data.loc[twitter_data['artist'] == 'robyn']['score'].min()"
   ]
  },
  {
   "cell_type": "code",
   "execution_count": 47,
   "id": "b6be98c5",
   "metadata": {},
   "outputs": [
    {
     "data": {
      "text/plain": [
       "(0.012164563692917857, 0.012164563692917857)"
      ]
     },
     "execution_count": 47,
     "metadata": {},
     "output_type": "execute_result"
    }
   ],
   "source": [
    "twitter_data.loc[twitter_data['artist'] == 'cher']['score'].mean(),twitter_data.loc[twitter_data['artist'] == 'cher']['score'].mean()"
   ]
  },
  {
   "cell_type": "markdown",
   "id": "fb92eb93",
   "metadata": {},
   "source": [
    "Q: What is the average sentiment of your two artists? \n",
    "\n",
    "A: The average sentiment is zero for both artists.\n",
    "\n",
    "---\n",
    "\n",
    "Q: Which positive emoji is the most popular for each artist? Which negative emoji? \n",
    "\n",
    "A: Most popular positive emoji for cher is 😊, most negative for cher is 😬. Most popular positive emoji for robyn is 😍, most negative for robyn is 😭\n",
    "\n"
   ]
  },
  {
   "cell_type": "code",
   "execution_count": 48,
   "id": "7e4ac1ff",
   "metadata": {},
   "outputs": [
    {
     "data": {
      "text/plain": [
       "758219    😊 😊 😊 😊 😊 😊 😊 😊 😊 😊 😊 😊 😊 😊 😊 😊 😊 😊 😊 😊 😊 😊 😊 ...\n",
       "Name: sentiment_emojis, dtype: object"
      ]
     },
     "execution_count": 48,
     "metadata": {},
     "output_type": "execute_result"
    }
   ],
   "source": [
    "twitter_data.loc[twitter_data['score'] == 37]['sentiment_emojis']\n"
   ]
  },
  {
   "cell_type": "code",
   "execution_count": 54,
   "id": "01162658",
   "metadata": {},
   "outputs": [
    {
     "data": {
      "text/plain": [
       "1293326    😬 😬 😬 😬 😬 😬 😬 😬 😬 😬 😬 😬 😬 😬 😬 😬\n",
       "Name: sentiment_emojis, dtype: object"
      ]
     },
     "execution_count": 54,
     "metadata": {},
     "output_type": "execute_result"
    }
   ],
   "source": [
    "twitter_data.loc[twitter_data['score'] == -16]['sentiment_emojis']"
   ]
  },
  {
   "cell_type": "code",
   "execution_count": 50,
   "id": "7dd104b8",
   "metadata": {},
   "outputs": [
    {
     "data": {
      "text/plain": [
       "1153184    😍 😍 😍 😍 😍 😍 😍 😍 😍 😍 😍 😍 😍 😍 😍 😍 😍 😍 😍\n",
       "32139      😍 😍 😍 😍 😍 😍 😍 😍 😍 😍 😊 😊 😊 😊 😊 😊 😊 😊 😊\n",
       "Name: sentiment_emojis, dtype: object"
      ]
     },
     "execution_count": 50,
     "metadata": {},
     "output_type": "execute_result"
    }
   ],
   "source": [
    "twitter_data.loc[twitter_data['score'] == 19]['sentiment_emojis']\n"
   ]
  },
  {
   "cell_type": "code",
   "execution_count": 51,
   "id": "f2259f10",
   "metadata": {},
   "outputs": [
    {
     "data": {
      "text/plain": [
       "488262     😭 😭 😭 😭 😭 😭\n",
       "692493     😭 😭 😭 😭 😭 😭\n",
       "1103078    😭 😭 😭 😭 😭 😭\n",
       "1699870    😬 😬 😬 😬 😬 😬\n",
       "3208022    😭 😭 😞 😞 😭 😭\n",
       "7414       😭 😭 😭 😭 😭 😭\n",
       "Name: sentiment_emojis, dtype: object"
      ]
     },
     "execution_count": 51,
     "metadata": {},
     "output_type": "execute_result"
    }
   ],
   "source": [
    "twitter_data.loc[twitter_data['score'] == -6]['sentiment_emojis']"
   ]
  },
  {
   "cell_type": "code",
   "execution_count": null,
   "id": "53602de4",
   "metadata": {},
   "outputs": [],
   "source": []
  },
  {
   "cell_type": "code",
   "execution_count": null,
   "id": "34bbe4a5",
   "metadata": {},
   "outputs": [],
   "source": []
  }
 ],
 "metadata": {
  "kernelspec": {
   "display_name": "Python 3.8.5 ('base')",
   "language": "python",
   "name": "python3"
  },
  "language_info": {
   "codemirror_mode": {
    "name": "ipython",
    "version": 3
   },
   "file_extension": ".py",
   "mimetype": "text/x-python",
   "name": "python",
   "nbconvert_exporter": "python",
   "pygments_lexer": "ipython3",
   "version": "3.8.5"
  },
  "vscode": {
   "interpreter": {
    "hash": "26ebadc3bb7524f525c5139797c5a2de68e5b8f29daaaf07d924c30439e8de33"
   }
  }
 },
 "nbformat": 4,
 "nbformat_minor": 5
}
